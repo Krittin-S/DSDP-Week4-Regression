{
 "cells": [
  {
   "cell_type": "code",
   "execution_count": 1,
   "metadata": {},
   "outputs": [],
   "source": [
    "# -*- coding: utf-8 -*-\n",
    "\"\"\"\n",
    "Created on Sun Apr 26 17:02:49 2020\n",
    "\n",
    "@author: nyzw\n",
    "\"\"\"\n",
    "\n",
    "#install packages if needed\n",
    "#pip install #####\n",
    "\n",
    "\n",
    "#import modules\n",
    "import pandas as pd\n",
    "import numpy as np\n",
    "import statsmodels.api as sm\n",
    "import statsmodels.formula.api as smf\n",
    "import matplotlib.pyplot as plt\n",
    "import seaborn as sns\n",
    "import scipy.stats as stats\n",
    "import math\n",
    "from sklearn.linear_model import LinearRegression\n",
    "from sklearn.model_selection import train_test_split\n",
    "from sklearn import metrics\n",
    "from matplotlib import rcParams\n",
    "from statsmodels.nonparametric.smoothers_lowess import lowess\n",
    "from scipy.stats import shapiro\n",
    "from statsmodels.graphics.gofplots import qqplot\n",
    "from statsmodels.stats.outliers_influence import variance_inflation_factor\n",
    "from patsy import dmatrices\n",
    "from statsmodels.stats.stattools import durbin_watson\n",
    "from statsmodels.stats.anova import anova_lm\n",
    "import warnings\n",
    "warnings.filterwarnings(\"ignore\")"
   ]
  },
  {
   "cell_type": "code",
   "execution_count": 2,
   "metadata": {},
   "outputs": [],
   "source": [
    "#Import in xlsx file\n",
    "FB = pd.read_excel('Facebook_Post_Prediction_Truncated.xlsx')"
   ]
  },
  {
   "cell_type": "code",
   "execution_count": 3,
   "metadata": {},
   "outputs": [
    {
     "data": {
      "text/plain": [
       "(3576, 17)"
      ]
     },
     "execution_count": 3,
     "metadata": {},
     "output_type": "execute_result"
    }
   ],
   "source": [
    "#Look at data - visually look! \n",
    "#(may also open data frame in IDE to get a \"cleaner\" look)\n",
    "\n",
    "#Look at the dataset dimensions\n",
    "FB.shape"
   ]
  },
  {
   "cell_type": "markdown",
   "metadata": {},
   "source": [
    "### Check data type\n",
    "All columns are stored as integer"
   ]
  },
  {
   "cell_type": "code",
   "execution_count": 4,
   "metadata": {},
   "outputs": [
    {
     "name": "stdout",
     "output_type": "stream",
     "text": [
      "<class 'pandas.core.frame.DataFrame'>\n",
      "RangeIndex: 3576 entries, 0 to 3575\n",
      "Data columns (total 17 columns):\n",
      " #   Column               Non-Null Count  Dtype\n",
      "---  ------               --------------  -----\n",
      " 0   PagePopularity       3576 non-null   int64\n",
      " 1   PageCheckin          3576 non-null   int64\n",
      " 2   PageTalkingAbout     3576 non-null   int64\n",
      " 3   PageCategory         3576 non-null   int64\n",
      " 4   CommentCount24       3576 non-null   int64\n",
      " 5   PostLength           3576 non-null   int64\n",
      " 6   PostShareCount       3576 non-null   int64\n",
      " 7   PostPromotionStatus  3576 non-null   int64\n",
      " 8   TimeLikesMeasured    3576 non-null   int64\n",
      " 9   PostSunday           3576 non-null   int64\n",
      " 10  PostMonday           3576 non-null   int64\n",
      " 11  PostTuesday          3576 non-null   int64\n",
      " 12  PostWednesday        3576 non-null   int64\n",
      " 13  PostThursday         3576 non-null   int64\n",
      " 14  PostFriday           3576 non-null   int64\n",
      " 15  PostSaturday         3576 non-null   int64\n",
      " 16  NumberLikes24        3576 non-null   int64\n",
      "dtypes: int64(17)\n",
      "memory usage: 475.1 KB\n"
     ]
    }
   ],
   "source": [
    "#Check the variable types\n",
    "FB.info()"
   ]
  },
  {
   "cell_type": "markdown",
   "metadata": {},
   "source": [
    "### Check missing value\n",
    "No missing value on all columns, no need to dealing with missing data."
   ]
  },
  {
   "cell_type": "code",
   "execution_count": 5,
   "metadata": {},
   "outputs": [
    {
     "data": {
      "text/plain": [
       "PagePopularity         0\n",
       "PageCheckin            0\n",
       "PageTalkingAbout       0\n",
       "PageCategory           0\n",
       "CommentCount24         0\n",
       "PostLength             0\n",
       "PostShareCount         0\n",
       "PostPromotionStatus    0\n",
       "TimeLikesMeasured      0\n",
       "PostSunday             0\n",
       "PostMonday             0\n",
       "PostTuesday            0\n",
       "PostWednesday          0\n",
       "PostThursday           0\n",
       "PostFriday             0\n",
       "PostSaturday           0\n",
       "NumberLikes24          0\n",
       "dtype: int64"
      ]
     },
     "execution_count": 5,
     "metadata": {},
     "output_type": "execute_result"
    }
   ],
   "source": [
    "FB.isna().sum()"
   ]
  },
  {
   "cell_type": "markdown",
   "metadata": {},
   "source": [
    "### Check variance and min, max\n",
    "- Some columns (eg. ```PagePopularity```, ```PageCheckin```, ```PostShareCount```) have high variance and range is wide compare to the another.\n",
    "- Normalization might be consider as one of preprocessing data. (In this case consider to use ***```StandardScaler```***)\n",
    "- ```'PostPromotionStatus','TimeLikesMeasured','PostMonday','PostTuesday','PostWednesday'``` have no variance. Consider to drop."
   ]
  },
  {
   "cell_type": "code",
   "execution_count": 6,
   "metadata": {},
   "outputs": [
    {
     "data": {
      "text/html": [
       "<div>\n",
       "<style scoped>\n",
       "    .dataframe tbody tr th:only-of-type {\n",
       "        vertical-align: middle;\n",
       "    }\n",
       "\n",
       "    .dataframe tbody tr th {\n",
       "        vertical-align: top;\n",
       "    }\n",
       "\n",
       "    .dataframe thead th {\n",
       "        text-align: right;\n",
       "    }\n",
       "</style>\n",
       "<table border=\"1\" class=\"dataframe\">\n",
       "  <thead>\n",
       "    <tr style=\"text-align: right;\">\n",
       "      <th></th>\n",
       "      <th>PagePopularity</th>\n",
       "      <th>PageCheckin</th>\n",
       "      <th>PageTalkingAbout</th>\n",
       "      <th>PageCategory</th>\n",
       "      <th>CommentCount24</th>\n",
       "      <th>PostLength</th>\n",
       "      <th>PostShareCount</th>\n",
       "      <th>PostPromotionStatus</th>\n",
       "      <th>TimeLikesMeasured</th>\n",
       "      <th>PostSunday</th>\n",
       "      <th>PostMonday</th>\n",
       "      <th>PostTuesday</th>\n",
       "      <th>PostWednesday</th>\n",
       "      <th>PostThursday</th>\n",
       "      <th>PostFriday</th>\n",
       "      <th>PostSaturday</th>\n",
       "      <th>NumberLikes24</th>\n",
       "    </tr>\n",
       "  </thead>\n",
       "  <tbody>\n",
       "    <tr>\n",
       "      <th>count</th>\n",
       "      <td>3.576000e+03</td>\n",
       "      <td>3.576000e+03</td>\n",
       "      <td>3.576000e+03</td>\n",
       "      <td>3576.000000</td>\n",
       "      <td>3576.000000</td>\n",
       "      <td>3576.000000</td>\n",
       "      <td>3576.000000</td>\n",
       "      <td>3576.0</td>\n",
       "      <td>3576.0</td>\n",
       "      <td>3576.000000</td>\n",
       "      <td>3576.0</td>\n",
       "      <td>3576.0</td>\n",
       "      <td>3576.0</td>\n",
       "      <td>3576.000000</td>\n",
       "      <td>3576.000000</td>\n",
       "      <td>3576.000000</td>\n",
       "      <td>3576.000000</td>\n",
       "    </tr>\n",
       "    <tr>\n",
       "      <th>mean</th>\n",
       "      <td>3.892342e+06</td>\n",
       "      <td>5.963859e+03</td>\n",
       "      <td>2.356619e+05</td>\n",
       "      <td>22.879754</td>\n",
       "      <td>99.506432</td>\n",
       "      <td>148.202740</td>\n",
       "      <td>193.962248</td>\n",
       "      <td>0.0</td>\n",
       "      <td>24.0</td>\n",
       "      <td>0.035794</td>\n",
       "      <td>0.0</td>\n",
       "      <td>0.0</td>\n",
       "      <td>0.0</td>\n",
       "      <td>0.366611</td>\n",
       "      <td>0.366890</td>\n",
       "      <td>0.230705</td>\n",
       "      <td>30.199385</td>\n",
       "    </tr>\n",
       "    <tr>\n",
       "      <th>std</th>\n",
       "      <td>8.446233e+06</td>\n",
       "      <td>4.629343e+04</td>\n",
       "      <td>4.506870e+05</td>\n",
       "      <td>19.699124</td>\n",
       "      <td>248.893619</td>\n",
       "      <td>349.325872</td>\n",
       "      <td>1001.633919</td>\n",
       "      <td>0.0</td>\n",
       "      <td>0.0</td>\n",
       "      <td>0.185803</td>\n",
       "      <td>0.0</td>\n",
       "      <td>0.0</td>\n",
       "      <td>0.0</td>\n",
       "      <td>0.481946</td>\n",
       "      <td>0.482024</td>\n",
       "      <td>0.421343</td>\n",
       "      <td>104.575135</td>\n",
       "    </tr>\n",
       "    <tr>\n",
       "      <th>min</th>\n",
       "      <td>8.250000e+02</td>\n",
       "      <td>0.000000e+00</td>\n",
       "      <td>0.000000e+00</td>\n",
       "      <td>1.000000</td>\n",
       "      <td>0.000000</td>\n",
       "      <td>0.000000</td>\n",
       "      <td>1.000000</td>\n",
       "      <td>0.0</td>\n",
       "      <td>24.0</td>\n",
       "      <td>0.000000</td>\n",
       "      <td>0.0</td>\n",
       "      <td>0.0</td>\n",
       "      <td>0.0</td>\n",
       "      <td>0.000000</td>\n",
       "      <td>0.000000</td>\n",
       "      <td>0.000000</td>\n",
       "      <td>0.000000</td>\n",
       "    </tr>\n",
       "    <tr>\n",
       "      <th>25%</th>\n",
       "      <td>4.299050e+05</td>\n",
       "      <td>0.000000e+00</td>\n",
       "      <td>1.631500e+04</td>\n",
       "      <td>9.000000</td>\n",
       "      <td>3.000000</td>\n",
       "      <td>44.000000</td>\n",
       "      <td>3.000000</td>\n",
       "      <td>0.0</td>\n",
       "      <td>24.0</td>\n",
       "      <td>0.000000</td>\n",
       "      <td>0.0</td>\n",
       "      <td>0.0</td>\n",
       "      <td>0.0</td>\n",
       "      <td>0.000000</td>\n",
       "      <td>0.000000</td>\n",
       "      <td>0.000000</td>\n",
       "      <td>0.000000</td>\n",
       "    </tr>\n",
       "    <tr>\n",
       "      <th>50%</th>\n",
       "      <td>1.514256e+06</td>\n",
       "      <td>0.000000e+00</td>\n",
       "      <td>6.951100e+04</td>\n",
       "      <td>20.000000</td>\n",
       "      <td>17.000000</td>\n",
       "      <td>97.000000</td>\n",
       "      <td>25.000000</td>\n",
       "      <td>0.0</td>\n",
       "      <td>24.0</td>\n",
       "      <td>0.000000</td>\n",
       "      <td>0.0</td>\n",
       "      <td>0.0</td>\n",
       "      <td>0.0</td>\n",
       "      <td>0.000000</td>\n",
       "      <td>0.000000</td>\n",
       "      <td>0.000000</td>\n",
       "      <td>3.000000</td>\n",
       "    </tr>\n",
       "    <tr>\n",
       "      <th>75%</th>\n",
       "      <td>4.351476e+06</td>\n",
       "      <td>2.700000e+01</td>\n",
       "      <td>2.598920e+05</td>\n",
       "      <td>34.000000</td>\n",
       "      <td>72.250000</td>\n",
       "      <td>161.000000</td>\n",
       "      <td>104.250000</td>\n",
       "      <td>0.0</td>\n",
       "      <td>24.0</td>\n",
       "      <td>0.000000</td>\n",
       "      <td>0.0</td>\n",
       "      <td>0.0</td>\n",
       "      <td>0.0</td>\n",
       "      <td>1.000000</td>\n",
       "      <td>1.000000</td>\n",
       "      <td>0.000000</td>\n",
       "      <td>14.000000</td>\n",
       "    </tr>\n",
       "    <tr>\n",
       "      <th>max</th>\n",
       "      <td>1.626244e+08</td>\n",
       "      <td>1.100558e+06</td>\n",
       "      <td>6.784263e+06</td>\n",
       "      <td>107.000000</td>\n",
       "      <td>2673.000000</td>\n",
       "      <td>10405.000000</td>\n",
       "      <td>40428.000000</td>\n",
       "      <td>0.0</td>\n",
       "      <td>24.0</td>\n",
       "      <td>1.000000</td>\n",
       "      <td>0.0</td>\n",
       "      <td>0.0</td>\n",
       "      <td>0.0</td>\n",
       "      <td>1.000000</td>\n",
       "      <td>1.000000</td>\n",
       "      <td>1.000000</td>\n",
       "      <td>2412.000000</td>\n",
       "    </tr>\n",
       "  </tbody>\n",
       "</table>\n",
       "</div>"
      ],
      "text/plain": [
       "       PagePopularity   PageCheckin  PageTalkingAbout  PageCategory   \\\n",
       "count    3.576000e+03  3.576000e+03      3.576000e+03    3576.000000   \n",
       "mean     3.892342e+06  5.963859e+03      2.356619e+05      22.879754   \n",
       "std      8.446233e+06  4.629343e+04      4.506870e+05      19.699124   \n",
       "min      8.250000e+02  0.000000e+00      0.000000e+00       1.000000   \n",
       "25%      4.299050e+05  0.000000e+00      1.631500e+04       9.000000   \n",
       "50%      1.514256e+06  0.000000e+00      6.951100e+04      20.000000   \n",
       "75%      4.351476e+06  2.700000e+01      2.598920e+05      34.000000   \n",
       "max      1.626244e+08  1.100558e+06      6.784263e+06     107.000000   \n",
       "\n",
       "       CommentCount24    PostLength  PostShareCount  PostPromotionStatus  \\\n",
       "count     3576.000000   3576.000000     3576.000000               3576.0   \n",
       "mean        99.506432    148.202740      193.962248                  0.0   \n",
       "std        248.893619    349.325872     1001.633919                  0.0   \n",
       "min          0.000000      0.000000        1.000000                  0.0   \n",
       "25%          3.000000     44.000000        3.000000                  0.0   \n",
       "50%         17.000000     97.000000       25.000000                  0.0   \n",
       "75%         72.250000    161.000000      104.250000                  0.0   \n",
       "max       2673.000000  10405.000000    40428.000000                  0.0   \n",
       "\n",
       "       TimeLikesMeasured   PostSunday  PostMonday  PostTuesday  PostWednesday  \\\n",
       "count             3576.0  3576.000000      3576.0       3576.0         3576.0   \n",
       "mean                24.0     0.035794         0.0          0.0            0.0   \n",
       "std                  0.0     0.185803         0.0          0.0            0.0   \n",
       "min                 24.0     0.000000         0.0          0.0            0.0   \n",
       "25%                 24.0     0.000000         0.0          0.0            0.0   \n",
       "50%                 24.0     0.000000         0.0          0.0            0.0   \n",
       "75%                 24.0     0.000000         0.0          0.0            0.0   \n",
       "max                 24.0     1.000000         0.0          0.0            0.0   \n",
       "\n",
       "       PostThursday   PostFriday  PostSaturday  NumberLikes24  \n",
       "count   3576.000000  3576.000000   3576.000000    3576.000000  \n",
       "mean       0.366611     0.366890      0.230705      30.199385  \n",
       "std        0.481946     0.482024      0.421343     104.575135  \n",
       "min        0.000000     0.000000      0.000000       0.000000  \n",
       "25%        0.000000     0.000000      0.000000       0.000000  \n",
       "50%        0.000000     0.000000      0.000000       3.000000  \n",
       "75%        1.000000     1.000000      0.000000      14.000000  \n",
       "max        1.000000     1.000000      1.000000    2412.000000  "
      ]
     },
     "execution_count": 6,
     "metadata": {},
     "output_type": "execute_result"
    }
   ],
   "source": [
    "FB.describe(include='all')"
   ]
  },
  {
   "cell_type": "code",
   "execution_count": 7,
   "metadata": {},
   "outputs": [],
   "source": [
    "to_drop_no_var = ['PostPromotionStatus','TimeLikesMeasured','PostMonday','PostTuesday','PostWednesday']\n",
    "FB = FB.drop(columns = to_drop_no_var)"
   ]
  },
  {
   "cell_type": "markdown",
   "metadata": {},
   "source": [
    "### Visualizing distribution of all columns\n",
    "- Most of them do not have normal distribution\\\n",
    "```['PagePopularity', 'PageCheckin','PageTalkingAbout','CommentCount24','PostLenght','PostShareCount']```\n",
    "- Also many have outliers detect by boxplot"
   ]
  },
  {
   "cell_type": "code",
   "execution_count": 8,
   "metadata": {},
   "outputs": [
    {
     "data": {
      "image/png": "[encoded data removed]",
      "text/plain": [
       "<Figure size 432x216 with 1 Axes>"
      ]
     },
     "metadata": {},
     "output_type": "display_data"
    },
    {
     "data": {
      "image/png": "[encoded data removed]",
      "text/plain": [
       "<Figure size 432x216 with 1 Axes>"
      ]
     },
     "metadata": {},
     "output_type": "display_data"
    },
    {
     "data": {
      "image/png": "[encoded data removed]",
      "text/plain": [
       "<Figure size 432x216 with 1 Axes>"
      ]
     },
     "metadata": {},
     "output_type": "display_data"
    },
    {
     "data": {
      "image/png": "[encoded data removed]",
      "text/plain": [
       "<Figure size 432x216 with 1 Axes>"
      ]
     },
     "metadata": {},
     "output_type": "display_data"
    },
    {
     "data": {
      "image/png": "[encoded data removed]",
      "text/plain": [
       "<Figure size 432x216 with 1 Axes>"
      ]
     },
     "metadata": {},
     "output_type": "display_data"
    },
    {
     "data": {
      "image/png": "[encoded data removed]",
      "text/plain": [
       "<Figure size 432x216 with 1 Axes>"
      ]
     },
     "metadata": {},
     "output_type": "display_data"
    },
    {
     "data": {
      "image/png": "[encoded data removed]",
      "text/plain": [
       "<Figure size 432x216 with 1 Axes>"
      ]
     },
     "metadata": {},
     "output_type": "display_data"
    },
    {
     "ename": "RuntimeError",
     "evalue": "Selected KDE bandwidth is 0. Cannot estiamte density.",
     "output_type": "error",
     "traceback": [
      "\u001b[1;31m---------------------------------------------------------------------------\u001b[0m",
      "\u001b[1;31mValueError\u001b[0m                                Traceback (most recent call last)",
      "\u001b[1;32m~\\Anaconda3\\lib\\site-packages\\statsmodels\\nonparametric\\kde.py\u001b[0m in \u001b[0;36mkdensityfft\u001b[1;34m(X, kernel, bw, weights, gridsize, adjust, clip, cut, retgrid)\u001b[0m\n\u001b[0;32m    450\u001b[0m     \u001b[1;32mtry\u001b[0m\u001b[1;33m:\u001b[0m\u001b[1;33m\u001b[0m\u001b[1;33m\u001b[0m\u001b[0m\n\u001b[1;32m--> 451\u001b[1;33m         \u001b[0mbw\u001b[0m \u001b[1;33m=\u001b[0m \u001b[0mfloat\u001b[0m\u001b[1;33m(\u001b[0m\u001b[0mbw\u001b[0m\u001b[1;33m)\u001b[0m\u001b[1;33m\u001b[0m\u001b[1;33m\u001b[0m\u001b[0m\n\u001b[0m\u001b[0;32m    452\u001b[0m     \u001b[1;32mexcept\u001b[0m\u001b[1;33m:\u001b[0m\u001b[1;33m\u001b[0m\u001b[1;33m\u001b[0m\u001b[0m\n",
      "\u001b[1;31mValueError\u001b[0m: could not convert string to float: 'scott'",
      "\nDuring handling of the above exception, another exception occurred:\n",
      "\u001b[1;31mRuntimeError\u001b[0m                              Traceback (most recent call last)",
      "\u001b[1;32m<ipython-input-8-2a33f2acec57>\u001b[0m in \u001b[0;36m<module>\u001b[1;34m\u001b[0m\n\u001b[0;32m      6\u001b[0m \u001b[1;32mfor\u001b[0m \u001b[0mcolumn_name\u001b[0m \u001b[1;32min\u001b[0m \u001b[0mFB\u001b[0m\u001b[1;33m.\u001b[0m\u001b[0mcolumns\u001b[0m\u001b[1;33m:\u001b[0m\u001b[1;33m\u001b[0m\u001b[1;33m\u001b[0m\u001b[0m\n\u001b[0;32m      7\u001b[0m     \u001b[0max\u001b[0m \u001b[1;33m=\u001b[0m \u001b[0mplt\u001b[0m\u001b[1;33m.\u001b[0m\u001b[0msubplots\u001b[0m\u001b[1;33m(\u001b[0m\u001b[0mfigsize\u001b[0m\u001b[1;33m=\u001b[0m\u001b[1;33m(\u001b[0m\u001b[1;36m6\u001b[0m\u001b[1;33m,\u001b[0m\u001b[1;36m3\u001b[0m\u001b[1;33m)\u001b[0m\u001b[1;33m)\u001b[0m\u001b[1;33m\u001b[0m\u001b[1;33m\u001b[0m\u001b[0m\n\u001b[1;32m----> 8\u001b[1;33m     \u001b[0max\u001b[0m \u001b[1;33m=\u001b[0m \u001b[0msns\u001b[0m\u001b[1;33m.\u001b[0m\u001b[0mdistplot\u001b[0m\u001b[1;33m(\u001b[0m\u001b[0mFB\u001b[0m\u001b[1;33m[\u001b[0m\u001b[0mcolumn_name\u001b[0m\u001b[1;33m]\u001b[0m\u001b[1;33m)\u001b[0m\u001b[1;33m\u001b[0m\u001b[1;33m\u001b[0m\u001b[0m\n\u001b[0m\u001b[0;32m      9\u001b[0m     \u001b[0mtitle\u001b[0m\u001b[1;33m=\u001b[0m\u001b[1;34m'Histogram of '\u001b[0m\u001b[1;33m+\u001b[0m \u001b[0mcolumn_name\u001b[0m\u001b[1;33m\u001b[0m\u001b[1;33m\u001b[0m\u001b[0m\n\u001b[0;32m     10\u001b[0m     \u001b[0mplt\u001b[0m\u001b[1;33m.\u001b[0m\u001b[0mtitle\u001b[0m\u001b[1;33m(\u001b[0m\u001b[0mtitle\u001b[0m\u001b[1;33m,\u001b[0m\u001b[0mfontsize\u001b[0m \u001b[1;33m=\u001b[0m \u001b[1;36m12\u001b[0m\u001b[1;33m)\u001b[0m\u001b[1;33m\u001b[0m\u001b[1;33m\u001b[0m\u001b[0m\n",
      "\u001b[1;32m~\\Anaconda3\\lib\\site-packages\\seaborn\\distributions.py\u001b[0m in \u001b[0;36mdistplot\u001b[1;34m(a, bins, hist, kde, rug, fit, hist_kws, kde_kws, rug_kws, fit_kws, color, vertical, norm_hist, axlabel, label, ax)\u001b[0m\n\u001b[0;32m    231\u001b[0m     \u001b[1;32mif\u001b[0m \u001b[0mkde\u001b[0m\u001b[1;33m:\u001b[0m\u001b[1;33m\u001b[0m\u001b[1;33m\u001b[0m\u001b[0m\n\u001b[0;32m    232\u001b[0m         \u001b[0mkde_color\u001b[0m \u001b[1;33m=\u001b[0m \u001b[0mkde_kws\u001b[0m\u001b[1;33m.\u001b[0m\u001b[0mpop\u001b[0m\u001b[1;33m(\u001b[0m\u001b[1;34m\"color\"\u001b[0m\u001b[1;33m,\u001b[0m \u001b[0mcolor\u001b[0m\u001b[1;33m)\u001b[0m\u001b[1;33m\u001b[0m\u001b[1;33m\u001b[0m\u001b[0m\n\u001b[1;32m--> 233\u001b[1;33m         \u001b[0mkdeplot\u001b[0m\u001b[1;33m(\u001b[0m\u001b[0ma\u001b[0m\u001b[1;33m,\u001b[0m \u001b[0mvertical\u001b[0m\u001b[1;33m=\u001b[0m\u001b[0mvertical\u001b[0m\u001b[1;33m,\u001b[0m \u001b[0max\u001b[0m\u001b[1;33m=\u001b[0m\u001b[0max\u001b[0m\u001b[1;33m,\u001b[0m \u001b[0mcolor\u001b[0m\u001b[1;33m=\u001b[0m\u001b[0mkde_color\u001b[0m\u001b[1;33m,\u001b[0m \u001b[1;33m**\u001b[0m\u001b[0mkde_kws\u001b[0m\u001b[1;33m)\u001b[0m\u001b[1;33m\u001b[0m\u001b[1;33m\u001b[0m\u001b[0m\n\u001b[0m\u001b[0;32m    234\u001b[0m         \u001b[1;32mif\u001b[0m \u001b[0mkde_color\u001b[0m \u001b[1;33m!=\u001b[0m \u001b[0mcolor\u001b[0m\u001b[1;33m:\u001b[0m\u001b[1;33m\u001b[0m\u001b[1;33m\u001b[0m\u001b[0m\n\u001b[0;32m    235\u001b[0m             \u001b[0mkde_kws\u001b[0m\u001b[1;33m[\u001b[0m\u001b[1;34m\"color\"\u001b[0m\u001b[1;33m]\u001b[0m \u001b[1;33m=\u001b[0m \u001b[0mkde_color\u001b[0m\u001b[1;33m\u001b[0m\u001b[1;33m\u001b[0m\u001b[0m\n",
      "\u001b[1;32m~\\Anaconda3\\lib\\site-packages\\seaborn\\distributions.py\u001b[0m in \u001b[0;36mkdeplot\u001b[1;34m(data, data2, shade, vertical, kernel, bw, gridsize, cut, clip, legend, cumulative, shade_lowest, cbar, cbar_ax, cbar_kws, ax, **kwargs)\u001b[0m\n\u001b[0;32m    703\u001b[0m         ax = _univariate_kdeplot(data, shade, vertical, kernel, bw,\n\u001b[0;32m    704\u001b[0m                                  \u001b[0mgridsize\u001b[0m\u001b[1;33m,\u001b[0m \u001b[0mcut\u001b[0m\u001b[1;33m,\u001b[0m \u001b[0mclip\u001b[0m\u001b[1;33m,\u001b[0m \u001b[0mlegend\u001b[0m\u001b[1;33m,\u001b[0m \u001b[0max\u001b[0m\u001b[1;33m,\u001b[0m\u001b[1;33m\u001b[0m\u001b[1;33m\u001b[0m\u001b[0m\n\u001b[1;32m--> 705\u001b[1;33m                                  cumulative=cumulative, **kwargs)\n\u001b[0m\u001b[0;32m    706\u001b[0m \u001b[1;33m\u001b[0m\u001b[0m\n\u001b[0;32m    707\u001b[0m     \u001b[1;32mreturn\u001b[0m \u001b[0max\u001b[0m\u001b[1;33m\u001b[0m\u001b[1;33m\u001b[0m\u001b[0m\n",
      "\u001b[1;32m~\\Anaconda3\\lib\\site-packages\\seaborn\\distributions.py\u001b[0m in \u001b[0;36m_univariate_kdeplot\u001b[1;34m(data, shade, vertical, kernel, bw, gridsize, cut, clip, legend, ax, cumulative, **kwargs)\u001b[0m\n\u001b[0;32m    293\u001b[0m         x, y = _statsmodels_univariate_kde(data, kernel, bw,\n\u001b[0;32m    294\u001b[0m                                            \u001b[0mgridsize\u001b[0m\u001b[1;33m,\u001b[0m \u001b[0mcut\u001b[0m\u001b[1;33m,\u001b[0m \u001b[0mclip\u001b[0m\u001b[1;33m,\u001b[0m\u001b[1;33m\u001b[0m\u001b[1;33m\u001b[0m\u001b[0m\n\u001b[1;32m--> 295\u001b[1;33m                                            cumulative=cumulative)\n\u001b[0m\u001b[0;32m    296\u001b[0m     \u001b[1;32melse\u001b[0m\u001b[1;33m:\u001b[0m\u001b[1;33m\u001b[0m\u001b[1;33m\u001b[0m\u001b[0m\n\u001b[0;32m    297\u001b[0m         \u001b[1;31m# Fall back to scipy if missing statsmodels\u001b[0m\u001b[1;33m\u001b[0m\u001b[1;33m\u001b[0m\u001b[1;33m\u001b[0m\u001b[0m\n",
      "\u001b[1;32m~\\Anaconda3\\lib\\site-packages\\seaborn\\distributions.py\u001b[0m in \u001b[0;36m_statsmodels_univariate_kde\u001b[1;34m(data, kernel, bw, gridsize, cut, clip, cumulative)\u001b[0m\n\u001b[0;32m    365\u001b[0m     \u001b[0mfft\u001b[0m \u001b[1;33m=\u001b[0m \u001b[0mkernel\u001b[0m \u001b[1;33m==\u001b[0m \u001b[1;34m\"gau\"\u001b[0m\u001b[1;33m\u001b[0m\u001b[1;33m\u001b[0m\u001b[0m\n\u001b[0;32m    366\u001b[0m     \u001b[0mkde\u001b[0m \u001b[1;33m=\u001b[0m \u001b[0msmnp\u001b[0m\u001b[1;33m.\u001b[0m\u001b[0mKDEUnivariate\u001b[0m\u001b[1;33m(\u001b[0m\u001b[0mdata\u001b[0m\u001b[1;33m)\u001b[0m\u001b[1;33m\u001b[0m\u001b[1;33m\u001b[0m\u001b[0m\n\u001b[1;32m--> 367\u001b[1;33m     \u001b[0mkde\u001b[0m\u001b[1;33m.\u001b[0m\u001b[0mfit\u001b[0m\u001b[1;33m(\u001b[0m\u001b[0mkernel\u001b[0m\u001b[1;33m,\u001b[0m \u001b[0mbw\u001b[0m\u001b[1;33m,\u001b[0m \u001b[0mfft\u001b[0m\u001b[1;33m,\u001b[0m \u001b[0mgridsize\u001b[0m\u001b[1;33m=\u001b[0m\u001b[0mgridsize\u001b[0m\u001b[1;33m,\u001b[0m \u001b[0mcut\u001b[0m\u001b[1;33m=\u001b[0m\u001b[0mcut\u001b[0m\u001b[1;33m,\u001b[0m \u001b[0mclip\u001b[0m\u001b[1;33m=\u001b[0m\u001b[0mclip\u001b[0m\u001b[1;33m)\u001b[0m\u001b[1;33m\u001b[0m\u001b[1;33m\u001b[0m\u001b[0m\n\u001b[0m\u001b[0;32m    368\u001b[0m     \u001b[1;32mif\u001b[0m \u001b[0mcumulative\u001b[0m\u001b[1;33m:\u001b[0m\u001b[1;33m\u001b[0m\u001b[1;33m\u001b[0m\u001b[0m\n\u001b[0;32m    369\u001b[0m         \u001b[0mgrid\u001b[0m\u001b[1;33m,\u001b[0m \u001b[0my\u001b[0m \u001b[1;33m=\u001b[0m \u001b[0mkde\u001b[0m\u001b[1;33m.\u001b[0m\u001b[0msupport\u001b[0m\u001b[1;33m,\u001b[0m \u001b[0mkde\u001b[0m\u001b[1;33m.\u001b[0m\u001b[0mcdf\u001b[0m\u001b[1;33m\u001b[0m\u001b[1;33m\u001b[0m\u001b[0m\n",
      "\u001b[1;32m~\\Anaconda3\\lib\\site-packages\\statsmodels\\nonparametric\\kde.py\u001b[0m in \u001b[0;36mfit\u001b[1;34m(self, kernel, bw, fft, weights, gridsize, adjust, cut, clip)\u001b[0m\n\u001b[0;32m    138\u001b[0m             density, grid, bw = kdensityfft(endog, kernel=kernel, bw=bw,\n\u001b[0;32m    139\u001b[0m                     \u001b[0madjust\u001b[0m\u001b[1;33m=\u001b[0m\u001b[0madjust\u001b[0m\u001b[1;33m,\u001b[0m \u001b[0mweights\u001b[0m\u001b[1;33m=\u001b[0m\u001b[0mweights\u001b[0m\u001b[1;33m,\u001b[0m \u001b[0mgridsize\u001b[0m\u001b[1;33m=\u001b[0m\u001b[0mgridsize\u001b[0m\u001b[1;33m,\u001b[0m\u001b[1;33m\u001b[0m\u001b[1;33m\u001b[0m\u001b[0m\n\u001b[1;32m--> 140\u001b[1;33m                     clip=clip, cut=cut)\n\u001b[0m\u001b[0;32m    141\u001b[0m         \u001b[1;32melse\u001b[0m\u001b[1;33m:\u001b[0m\u001b[1;33m\u001b[0m\u001b[1;33m\u001b[0m\u001b[0m\n\u001b[0;32m    142\u001b[0m             density, grid, bw = kdensity(endog, kernel=kernel, bw=bw,\n",
      "\u001b[1;32m~\\Anaconda3\\lib\\site-packages\\statsmodels\\nonparametric\\kde.py\u001b[0m in \u001b[0;36mkdensityfft\u001b[1;34m(X, kernel, bw, weights, gridsize, adjust, clip, cut, retgrid)\u001b[0m\n\u001b[0;32m    451\u001b[0m         \u001b[0mbw\u001b[0m \u001b[1;33m=\u001b[0m \u001b[0mfloat\u001b[0m\u001b[1;33m(\u001b[0m\u001b[0mbw\u001b[0m\u001b[1;33m)\u001b[0m\u001b[1;33m\u001b[0m\u001b[1;33m\u001b[0m\u001b[0m\n\u001b[0;32m    452\u001b[0m     \u001b[1;32mexcept\u001b[0m\u001b[1;33m:\u001b[0m\u001b[1;33m\u001b[0m\u001b[1;33m\u001b[0m\u001b[0m\n\u001b[1;32m--> 453\u001b[1;33m         \u001b[0mbw\u001b[0m \u001b[1;33m=\u001b[0m \u001b[0mbandwidths\u001b[0m\u001b[1;33m.\u001b[0m\u001b[0mselect_bandwidth\u001b[0m\u001b[1;33m(\u001b[0m\u001b[0mX\u001b[0m\u001b[1;33m,\u001b[0m \u001b[0mbw\u001b[0m\u001b[1;33m,\u001b[0m \u001b[0mkern\u001b[0m\u001b[1;33m)\u001b[0m \u001b[1;31m# will cross-val fit this pattern?\u001b[0m\u001b[1;33m\u001b[0m\u001b[1;33m\u001b[0m\u001b[0m\n\u001b[0m\u001b[0;32m    454\u001b[0m     \u001b[0mbw\u001b[0m \u001b[1;33m*=\u001b[0m \u001b[0madjust\u001b[0m\u001b[1;33m\u001b[0m\u001b[1;33m\u001b[0m\u001b[0m\n\u001b[0;32m    455\u001b[0m \u001b[1;33m\u001b[0m\u001b[0m\n",
      "\u001b[1;32m~\\Anaconda3\\lib\\site-packages\\statsmodels\\nonparametric\\bandwidths.py\u001b[0m in \u001b[0;36mselect_bandwidth\u001b[1;34m(x, bw, kernel)\u001b[0m\n\u001b[0;32m    172\u001b[0m         \u001b[1;31m# eventually this can fall back on another selection criterion.\u001b[0m\u001b[1;33m\u001b[0m\u001b[1;33m\u001b[0m\u001b[1;33m\u001b[0m\u001b[0m\n\u001b[0;32m    173\u001b[0m         \u001b[0merr\u001b[0m \u001b[1;33m=\u001b[0m \u001b[1;34m\"Selected KDE bandwidth is 0. Cannot estiamte density.\"\u001b[0m\u001b[1;33m\u001b[0m\u001b[1;33m\u001b[0m\u001b[0m\n\u001b[1;32m--> 174\u001b[1;33m         \u001b[1;32mraise\u001b[0m \u001b[0mRuntimeError\u001b[0m\u001b[1;33m(\u001b[0m\u001b[0merr\u001b[0m\u001b[1;33m)\u001b[0m\u001b[1;33m\u001b[0m\u001b[1;33m\u001b[0m\u001b[0m\n\u001b[0m\u001b[0;32m    175\u001b[0m     \u001b[1;32melse\u001b[0m\u001b[1;33m:\u001b[0m\u001b[1;33m\u001b[0m\u001b[1;33m\u001b[0m\u001b[0m\n\u001b[0;32m    176\u001b[0m         \u001b[1;32mreturn\u001b[0m \u001b[0mbandwidth\u001b[0m\u001b[1;33m\u001b[0m\u001b[1;33m\u001b[0m\u001b[0m\n",
      "\u001b[1;31mRuntimeError\u001b[0m: Selected KDE bandwidth is 0. Cannot estiamte density."
     ]
    },
    {
     "data": {
      "image/png": "[encoded data removed]",
      "text/plain": [
       "<Figure size 432x216 with 1 Axes>"
      ]
     },
     "metadata": {},
     "output_type": "display_data"
    }
   ],
   "source": [
    "#Plot Histogram of all columns\n",
    "import seaborn as sns\n",
    "sns.set(color_codes=True)\n",
    "n_bins = 50\n",
    "\n",
    "for column_name in FB.columns:\n",
    "    ax = plt.subplots(figsize=(6,3))\n",
    "    ax = sns.distplot(FB[column_name])\n",
    "    title='Histogram of '+ column_name\n",
    "    plt.title(title,fontsize = 12)\n",
    "    plt.show()"
   ]
  },
  {
   "cell_type": "code",
   "execution_count": 9,
   "metadata": {},
   "outputs": [
    {
     "data": {
      "text/plain": [
       "PagePopularity      int64\n",
       "PageCheckin         int64\n",
       "PageTalkingAbout    int64\n",
       "PageCategory        int64\n",
       "CommentCount24      int64\n",
       "PostLength          int64\n",
       "PostShareCount      int64\n",
       "PostSunday          int64\n",
       "PostThursday        int64\n",
       "PostFriday          int64\n",
       "PostSaturday        int64\n",
       "NumberLikes24       int64\n",
       "dtype: object"
      ]
     },
     "execution_count": 9,
     "metadata": {},
     "output_type": "execute_result"
    }
   ],
   "source": [
    "FB.dtypes"
   ]
  },
  {
   "cell_type": "code",
   "execution_count": 10,
   "metadata": {},
   "outputs": [
    {
     "data": {
      "image/png": "[encoded data removed]",
      "text/plain": [
       "<Figure size 432x216 with 1 Axes>"
      ]
     },
     "metadata": {},
     "output_type": "display_data"
    },
    {
     "data": {
      "image/png": "[encoded data removed]",
      "text/plain": [
       "<Figure size 432x216 with 1 Axes>"
      ]
     },
     "metadata": {},
     "output_type": "display_data"
    },
    {
     "data": {
      "image/png": "[encoded data removed]",
      "text/plain": [
       "<Figure size 432x216 with 1 Axes>"
      ]
     },
     "metadata": {},
     "output_type": "display_data"
    },
    {
     "data": {
      "image/png": "[encoded data removed]",
      "text/plain": [
       "<Figure size 432x216 with 1 Axes>"
      ]
     },
     "metadata": {},
     "output_type": "display_data"
    },
    {
     "data": {
      "image/png": "[encoded data removed]",
      "text/plain": [
       "<Figure size 432x216 with 1 Axes>"
      ]
     },
     "metadata": {},
     "output_type": "display_data"
    },
    {
     "data": {
      "image/png": "[encoded data removed]",
      "text/plain": [
       "<Figure size 432x216 with 1 Axes>"
      ]
     },
     "metadata": {},
     "output_type": "display_data"
    },
    {
     "data": {
      "image/png": "[encoded data removed]",
      "text/plain": [
       "<Figure size 432x216 with 1 Axes>"
      ]
     },
     "metadata": {},
     "output_type": "display_data"
    },
    {
     "data": {
      "image/png": "[encoded data removed]",
      "text/plain": [
       "<Figure size 432x216 with 1 Axes>"
      ]
     },
     "metadata": {},
     "output_type": "display_data"
    },
    {
     "data": {
      "image/png": "[encoded data removed]",
      "text/plain": [
       "<Figure size 432x216 with 1 Axes>"
      ]
     },
     "metadata": {},
     "output_type": "display_data"
    },
    {
     "data": {
      "image/png": "[encoded data removed]",
      "text/plain": [
       "<Figure size 432x216 with 1 Axes>"
      ]
     },
     "metadata": {},
     "output_type": "display_data"
    },
    {
     "data": {
      "image/png": "[encoded data removed]",
      "text/plain": [
       "<Figure size 432x216 with 1 Axes>"
      ]
     },
     "metadata": {},
     "output_type": "display_data"
    },
    {
     "data": {
      "image/png": "[encoded data removed]",
      "text/plain": [
       "<Figure size 432x216 with 1 Axes>"
      ]
     },
     "metadata": {},
     "output_type": "display_data"
    }
   ],
   "source": [
    "#Box plot of all columns\n",
    "\n",
    "for column_name in FB.columns:\n",
    "    ax = plt.subplots(figsize=(6,3))\n",
    "    ax = sns.boxplot(y =FB[column_name]);\n",
    "    title='Boxplot of '+ column_name\n",
    "    plt.title(title,fontsize = 12)\n",
    "    plt.show()"
   ]
  },
  {
   "cell_type": "markdown",
   "metadata": {},
   "source": [
    "### Check the correlation between parametres and VIF of multicolinearity\n",
    "- Correlation seem to be moderate (< 0.75) for pair of features\n",
    "- VIF = ???"
   ]
  },
  {
   "cell_type": "code",
   "execution_count": 11,
   "metadata": {},
   "outputs": [
    {
     "data": {
      "text/html": [
       "<style  type=\"text/css\" >\n",
       "    #T_37c2427a_9443_11ea_aba8_28d2445ded2drow0_col0 {\n",
       "            background-color:  #b40426;\n",
       "            color:  #f1f1f1;\n",
       "        }    #T_37c2427a_9443_11ea_aba8_28d2445ded2drow0_col1 {\n",
       "            background-color:  #4b64d5;\n",
       "            color:  #f1f1f1;\n",
       "        }    #T_37c2427a_9443_11ea_aba8_28d2445ded2drow0_col2 {\n",
       "            background-color:  #d2dbe8;\n",
       "            color:  #000000;\n",
       "        }    #T_37c2427a_9443_11ea_aba8_28d2445ded2drow0_col3 {\n",
       "            background-color:  #5875e1;\n",
       "            color:  #000000;\n",
       "        }    #T_37c2427a_9443_11ea_aba8_28d2445ded2drow0_col4 {\n",
       "            background-color:  #9dbdff;\n",
       "            color:  #000000;\n",
       "        }    #T_37c2427a_9443_11ea_aba8_28d2445ded2drow0_col5 {\n",
       "            background-color:  #3c4ec2;\n",
       "            color:  #f1f1f1;\n",
       "        }    #T_37c2427a_9443_11ea_aba8_28d2445ded2drow0_col6 {\n",
       "            background-color:  #82a6fb;\n",
       "            color:  #000000;\n",
       "        }    #T_37c2427a_9443_11ea_aba8_28d2445ded2drow0_col7 {\n",
       "            background-color:  #6f92f3;\n",
       "            color:  #000000;\n",
       "        }    #T_37c2427a_9443_11ea_aba8_28d2445ded2drow0_col8 {\n",
       "            background-color:  #b7cff9;\n",
       "            color:  #000000;\n",
       "        }    #T_37c2427a_9443_11ea_aba8_28d2445ded2drow0_col9 {\n",
       "            background-color:  #afcafc;\n",
       "            color:  #000000;\n",
       "        }    #T_37c2427a_9443_11ea_aba8_28d2445ded2drow0_col10 {\n",
       "            background-color:  #9ebeff;\n",
       "            color:  #000000;\n",
       "        }    #T_37c2427a_9443_11ea_aba8_28d2445ded2drow0_col11 {\n",
       "            background-color:  #7597f6;\n",
       "            color:  #000000;\n",
       "        }    #T_37c2427a_9443_11ea_aba8_28d2445ded2drow1_col0 {\n",
       "            background-color:  #4961d2;\n",
       "            color:  #f1f1f1;\n",
       "        }    #T_37c2427a_9443_11ea_aba8_28d2445ded2drow1_col1 {\n",
       "            background-color:  #b40426;\n",
       "            color:  #f1f1f1;\n",
       "        }    #T_37c2427a_9443_11ea_aba8_28d2445ded2drow1_col2 {\n",
       "            background-color:  #3d50c3;\n",
       "            color:  #f1f1f1;\n",
       "        }    #T_37c2427a_9443_11ea_aba8_28d2445ded2drow1_col3 {\n",
       "            background-color:  #4b64d5;\n",
       "            color:  #f1f1f1;\n",
       "        }    #T_37c2427a_9443_11ea_aba8_28d2445ded2drow1_col4 {\n",
       "            background-color:  #485fd1;\n",
       "            color:  #f1f1f1;\n",
       "        }    #T_37c2427a_9443_11ea_aba8_28d2445ded2drow1_col5 {\n",
       "            background-color:  #4358cb;\n",
       "            color:  #f1f1f1;\n",
       "        }    #T_37c2427a_9443_11ea_aba8_28d2445ded2drow1_col6 {\n",
       "            background-color:  #4055c8;\n",
       "            color:  #f1f1f1;\n",
       "        }    #T_37c2427a_9443_11ea_aba8_28d2445ded2drow1_col7 {\n",
       "            background-color:  #6e90f2;\n",
       "            color:  #000000;\n",
       "        }    #T_37c2427a_9443_11ea_aba8_28d2445ded2drow1_col8 {\n",
       "            background-color:  #afcafc;\n",
       "            color:  #000000;\n",
       "        }    #T_37c2427a_9443_11ea_aba8_28d2445ded2drow1_col9 {\n",
       "            background-color:  #afcafc;\n",
       "            color:  #000000;\n",
       "        }    #T_37c2427a_9443_11ea_aba8_28d2445ded2drow1_col10 {\n",
       "            background-color:  #a7c5fe;\n",
       "            color:  #000000;\n",
       "        }    #T_37c2427a_9443_11ea_aba8_28d2445ded2drow1_col11 {\n",
       "            background-color:  #455cce;\n",
       "            color:  #f1f1f1;\n",
       "        }    #T_37c2427a_9443_11ea_aba8_28d2445ded2drow2_col0 {\n",
       "            background-color:  #cfdaea;\n",
       "            color:  #000000;\n",
       "        }    #T_37c2427a_9443_11ea_aba8_28d2445ded2drow2_col1 {\n",
       "            background-color:  #3b4cc0;\n",
       "            color:  #f1f1f1;\n",
       "        }    #T_37c2427a_9443_11ea_aba8_28d2445ded2drow2_col2 {\n",
       "            background-color:  #b40426;\n",
       "            color:  #f1f1f1;\n",
       "        }    #T_37c2427a_9443_11ea_aba8_28d2445ded2drow2_col3 {\n",
       "            background-color:  #4961d2;\n",
       "            color:  #f1f1f1;\n",
       "        }    #T_37c2427a_9443_11ea_aba8_28d2445ded2drow2_col4 {\n",
       "            background-color:  #bbd1f8;\n",
       "            color:  #000000;\n",
       "        }    #T_37c2427a_9443_11ea_aba8_28d2445ded2drow2_col5 {\n",
       "            background-color:  #3b4cc0;\n",
       "            color:  #f1f1f1;\n",
       "        }    #T_37c2427a_9443_11ea_aba8_28d2445ded2drow2_col6 {\n",
       "            background-color:  #c0d4f5;\n",
       "            color:  #000000;\n",
       "        }    #T_37c2427a_9443_11ea_aba8_28d2445ded2drow2_col7 {\n",
       "            background-color:  #6e90f2;\n",
       "            color:  #000000;\n",
       "        }    #T_37c2427a_9443_11ea_aba8_28d2445ded2drow2_col8 {\n",
       "            background-color:  #abc8fd;\n",
       "            color:  #000000;\n",
       "        }    #T_37c2427a_9443_11ea_aba8_28d2445ded2drow2_col9 {\n",
       "            background-color:  #b5cdfa;\n",
       "            color:  #000000;\n",
       "        }    #T_37c2427a_9443_11ea_aba8_28d2445ded2drow2_col10 {\n",
       "            background-color:  #a5c3fe;\n",
       "            color:  #000000;\n",
       "        }    #T_37c2427a_9443_11ea_aba8_28d2445ded2drow2_col11 {\n",
       "            background-color:  #7ea1fa;\n",
       "            color:  #000000;\n",
       "        }    #T_37c2427a_9443_11ea_aba8_28d2445ded2drow3_col0 {\n",
       "            background-color:  #455cce;\n",
       "            color:  #f1f1f1;\n",
       "        }    #T_37c2427a_9443_11ea_aba8_28d2445ded2drow3_col1 {\n",
       "            background-color:  #3b4cc0;\n",
       "            color:  #f1f1f1;\n",
       "        }    #T_37c2427a_9443_11ea_aba8_28d2445ded2drow3_col2 {\n",
       "            background-color:  #3b4cc0;\n",
       "            color:  #f1f1f1;\n",
       "        }    #T_37c2427a_9443_11ea_aba8_28d2445ded2drow3_col3 {\n",
       "            background-color:  #b40426;\n",
       "            color:  #f1f1f1;\n",
       "        }    #T_37c2427a_9443_11ea_aba8_28d2445ded2drow3_col4 {\n",
       "            background-color:  #3b4cc0;\n",
       "            color:  #f1f1f1;\n",
       "        }    #T_37c2427a_9443_11ea_aba8_28d2445ded2drow3_col5 {\n",
       "            background-color:  #506bda;\n",
       "            color:  #000000;\n",
       "        }    #T_37c2427a_9443_11ea_aba8_28d2445ded2drow3_col6 {\n",
       "            background-color:  #3b4cc0;\n",
       "            color:  #f1f1f1;\n",
       "        }    #T_37c2427a_9443_11ea_aba8_28d2445ded2drow3_col7 {\n",
       "            background-color:  #506bda;\n",
       "            color:  #000000;\n",
       "        }    #T_37c2427a_9443_11ea_aba8_28d2445ded2drow3_col8 {\n",
       "            background-color:  #c4d5f3;\n",
       "            color:  #000000;\n",
       "        }    #T_37c2427a_9443_11ea_aba8_28d2445ded2drow3_col9 {\n",
       "            background-color:  #bed2f6;\n",
       "            color:  #000000;\n",
       "        }    #T_37c2427a_9443_11ea_aba8_28d2445ded2drow3_col10 {\n",
       "            background-color:  #84a7fc;\n",
       "            color:  #000000;\n",
       "        }    #T_37c2427a_9443_11ea_aba8_28d2445ded2drow3_col11 {\n",
       "            background-color:  #3b4cc0;\n",
       "            color:  #f1f1f1;\n",
       "        }    #T_37c2427a_9443_11ea_aba8_28d2445ded2drow4_col0 {\n",
       "            background-color:  #94b6ff;\n",
       "            color:  #000000;\n",
       "        }    #T_37c2427a_9443_11ea_aba8_28d2445ded2drow4_col1 {\n",
       "            background-color:  #4055c8;\n",
       "            color:  #f1f1f1;\n",
       "        }    #T_37c2427a_9443_11ea_aba8_28d2445ded2drow4_col2 {\n",
       "            background-color:  #b7cff9;\n",
       "            color:  #000000;\n",
       "        }    #T_37c2427a_9443_11ea_aba8_28d2445ded2drow4_col3 {\n",
       "            background-color:  #445acc;\n",
       "            color:  #f1f1f1;\n",
       "        }    #T_37c2427a_9443_11ea_aba8_28d2445ded2drow4_col4 {\n",
       "            background-color:  #b40426;\n",
       "            color:  #f1f1f1;\n",
       "        }    #T_37c2427a_9443_11ea_aba8_28d2445ded2drow4_col5 {\n",
       "            background-color:  #3b4cc0;\n",
       "            color:  #f1f1f1;\n",
       "        }    #T_37c2427a_9443_11ea_aba8_28d2445ded2drow4_col6 {\n",
       "            background-color:  #9fbfff;\n",
       "            color:  #000000;\n",
       "        }    #T_37c2427a_9443_11ea_aba8_28d2445ded2drow4_col7 {\n",
       "            background-color:  #6180e9;\n",
       "            color:  #000000;\n",
       "        }    #T_37c2427a_9443_11ea_aba8_28d2445ded2drow4_col8 {\n",
       "            background-color:  #bad0f8;\n",
       "            color:  #000000;\n",
       "        }    #T_37c2427a_9443_11ea_aba8_28d2445ded2drow4_col9 {\n",
       "            background-color:  #b6cefa;\n",
       "            color:  #000000;\n",
       "        }    #T_37c2427a_9443_11ea_aba8_28d2445ded2drow4_col10 {\n",
       "            background-color:  #94b6ff;\n",
       "            color:  #000000;\n",
       "        }    #T_37c2427a_9443_11ea_aba8_28d2445ded2drow4_col11 {\n",
       "            background-color:  #ccd9ed;\n",
       "            color:  #000000;\n",
       "        }    #T_37c2427a_9443_11ea_aba8_28d2445ded2drow5_col0 {\n",
       "            background-color:  #3d50c3;\n",
       "            color:  #f1f1f1;\n",
       "        }    #T_37c2427a_9443_11ea_aba8_28d2445ded2drow5_col1 {\n",
       "            background-color:  #455cce;\n",
       "            color:  #f1f1f1;\n",
       "        }    #T_37c2427a_9443_11ea_aba8_28d2445ded2drow5_col2 {\n",
       "            background-color:  #4055c8;\n",
       "            color:  #f1f1f1;\n",
       "        }    #T_37c2427a_9443_11ea_aba8_28d2445ded2drow5_col3 {\n",
       "            background-color:  #6485ec;\n",
       "            color:  #000000;\n",
       "        }    #T_37c2427a_9443_11ea_aba8_28d2445ded2drow5_col4 {\n",
       "            background-color:  #445acc;\n",
       "            color:  #f1f1f1;\n",
       "        }    #T_37c2427a_9443_11ea_aba8_28d2445ded2drow5_col5 {\n",
       "            background-color:  #b40426;\n",
       "            color:  #f1f1f1;\n",
       "        }    #T_37c2427a_9443_11ea_aba8_28d2445ded2drow5_col6 {\n",
       "            background-color:  #3d50c3;\n",
       "            color:  #f1f1f1;\n",
       "        }    #T_37c2427a_9443_11ea_aba8_28d2445ded2drow5_col7 {\n",
       "            background-color:  #6180e9;\n",
       "            color:  #000000;\n",
       "        }    #T_37c2427a_9443_11ea_aba8_28d2445ded2drow5_col8 {\n",
       "            background-color:  #b5cdfa;\n",
       "            color:  #000000;\n",
       "        }    #T_37c2427a_9443_11ea_aba8_28d2445ded2drow5_col9 {\n",
       "            background-color:  #b7cff9;\n",
       "            color:  #000000;\n",
       "        }    #T_37c2427a_9443_11ea_aba8_28d2445ded2drow5_col10 {\n",
       "            background-color:  #9dbdff;\n",
       "            color:  #000000;\n",
       "        }    #T_37c2427a_9443_11ea_aba8_28d2445ded2drow5_col11 {\n",
       "            background-color:  #455cce;\n",
       "            color:  #f1f1f1;\n",
       "        }    #T_37c2427a_9443_11ea_aba8_28d2445ded2drow6_col0 {\n",
       "            background-color:  #84a7fc;\n",
       "            color:  #000000;\n",
       "        }    #T_37c2427a_9443_11ea_aba8_28d2445ded2drow6_col1 {\n",
       "            background-color:  #445acc;\n",
       "            color:  #f1f1f1;\n",
       "        }    #T_37c2427a_9443_11ea_aba8_28d2445ded2drow6_col2 {\n",
       "            background-color:  #c3d5f4;\n",
       "            color:  #000000;\n",
       "        }    #T_37c2427a_9443_11ea_aba8_28d2445ded2drow6_col3 {\n",
       "            background-color:  #4f69d9;\n",
       "            color:  #000000;\n",
       "        }    #T_37c2427a_9443_11ea_aba8_28d2445ded2drow6_col4 {\n",
       "            background-color:  #a7c5fe;\n",
       "            color:  #000000;\n",
       "        }    #T_37c2427a_9443_11ea_aba8_28d2445ded2drow6_col5 {\n",
       "            background-color:  #3d50c3;\n",
       "            color:  #f1f1f1;\n",
       "        }    #T_37c2427a_9443_11ea_aba8_28d2445ded2drow6_col6 {\n",
       "            background-color:  #b40426;\n",
       "            color:  #f1f1f1;\n",
       "        }    #T_37c2427a_9443_11ea_aba8_28d2445ded2drow6_col7 {\n",
       "            background-color:  #6b8df0;\n",
       "            color:  #000000;\n",
       "        }    #T_37c2427a_9443_11ea_aba8_28d2445ded2drow6_col8 {\n",
       "            background-color:  #b5cdfa;\n",
       "            color:  #000000;\n",
       "        }    #T_37c2427a_9443_11ea_aba8_28d2445ded2drow6_col9 {\n",
       "            background-color:  #b6cefa;\n",
       "            color:  #000000;\n",
       "        }    #T_37c2427a_9443_11ea_aba8_28d2445ded2drow6_col10 {\n",
       "            background-color:  #98b9ff;\n",
       "            color:  #000000;\n",
       "        }    #T_37c2427a_9443_11ea_aba8_28d2445ded2drow6_col11 {\n",
       "            background-color:  #89acfd;\n",
       "            color:  #000000;\n",
       "        }    #T_37c2427a_9443_11ea_aba8_28d2445ded2drow7_col0 {\n",
       "            background-color:  #506bda;\n",
       "            color:  #000000;\n",
       "        }    #T_37c2427a_9443_11ea_aba8_28d2445ded2drow7_col1 {\n",
       "            background-color:  #506bda;\n",
       "            color:  #000000;\n",
       "        }    #T_37c2427a_9443_11ea_aba8_28d2445ded2drow7_col2 {\n",
       "            background-color:  #536edd;\n",
       "            color:  #000000;\n",
       "        }    #T_37c2427a_9443_11ea_aba8_28d2445ded2drow7_col3 {\n",
       "            background-color:  #4358cb;\n",
       "            color:  #f1f1f1;\n",
       "        }    #T_37c2427a_9443_11ea_aba8_28d2445ded2drow7_col4 {\n",
       "            background-color:  #4961d2;\n",
       "            color:  #f1f1f1;\n",
       "        }    #T_37c2427a_9443_11ea_aba8_28d2445ded2drow7_col5 {\n",
       "            background-color:  #3f53c6;\n",
       "            color:  #f1f1f1;\n",
       "        }    #T_37c2427a_9443_11ea_aba8_28d2445ded2drow7_col6 {\n",
       "            background-color:  #4b64d5;\n",
       "            color:  #f1f1f1;\n",
       "        }    #T_37c2427a_9443_11ea_aba8_28d2445ded2drow7_col7 {\n",
       "            background-color:  #b40426;\n",
       "            color:  #f1f1f1;\n",
       "        }    #T_37c2427a_9443_11ea_aba8_28d2445ded2drow7_col8 {\n",
       "            background-color:  #96b7ff;\n",
       "            color:  #000000;\n",
       "        }    #T_37c2427a_9443_11ea_aba8_28d2445ded2drow7_col9 {\n",
       "            background-color:  #96b7ff;\n",
       "            color:  #000000;\n",
       "        }    #T_37c2427a_9443_11ea_aba8_28d2445ded2drow7_col10 {\n",
       "            background-color:  #82a6fb;\n",
       "            color:  #000000;\n",
       "        }    #T_37c2427a_9443_11ea_aba8_28d2445ded2drow7_col11 {\n",
       "            background-color:  #5f7fe8;\n",
       "            color:  #000000;\n",
       "        }    #T_37c2427a_9443_11ea_aba8_28d2445ded2drow8_col0 {\n",
       "            background-color:  #455cce;\n",
       "            color:  #f1f1f1;\n",
       "        }    #T_37c2427a_9443_11ea_aba8_28d2445ded2drow8_col1 {\n",
       "            background-color:  #3d50c3;\n",
       "            color:  #f1f1f1;\n",
       "        }    #T_37c2427a_9443_11ea_aba8_28d2445ded2drow8_col2 {\n",
       "            background-color:  #3b4cc0;\n",
       "            color:  #f1f1f1;\n",
       "        }    #T_37c2427a_9443_11ea_aba8_28d2445ded2drow8_col3 {\n",
       "            background-color:  #6b8df0;\n",
       "            color:  #000000;\n",
       "        }    #T_37c2427a_9443_11ea_aba8_28d2445ded2drow8_col4 {\n",
       "            background-color:  #536edd;\n",
       "            color:  #000000;\n",
       "        }    #T_37c2427a_9443_11ea_aba8_28d2445ded2drow8_col5 {\n",
       "            background-color:  #4055c8;\n",
       "            color:  #f1f1f1;\n",
       "        }    #T_37c2427a_9443_11ea_aba8_28d2445ded2drow8_col6 {\n",
       "            background-color:  #3f53c6;\n",
       "            color:  #f1f1f1;\n",
       "        }    #T_37c2427a_9443_11ea_aba8_28d2445ded2drow8_col7 {\n",
       "            background-color:  #3b4cc0;\n",
       "            color:  #f1f1f1;\n",
       "        }    #T_37c2427a_9443_11ea_aba8_28d2445ded2drow8_col8 {\n",
       "            background-color:  #b40426;\n",
       "            color:  #f1f1f1;\n",
       "        }    #T_37c2427a_9443_11ea_aba8_28d2445ded2drow8_col9 {\n",
       "            background-color:  #3b4cc0;\n",
       "            color:  #f1f1f1;\n",
       "        }    #T_37c2427a_9443_11ea_aba8_28d2445ded2drow8_col10 {\n",
       "            background-color:  #3b4cc0;\n",
       "            color:  #f1f1f1;\n",
       "        }    #T_37c2427a_9443_11ea_aba8_28d2445ded2drow8_col11 {\n",
       "            background-color:  #3c4ec2;\n",
       "            color:  #f1f1f1;\n",
       "        }    #T_37c2427a_9443_11ea_aba8_28d2445ded2drow9_col0 {\n",
       "            background-color:  #3b4cc0;\n",
       "            color:  #f1f1f1;\n",
       "        }    #T_37c2427a_9443_11ea_aba8_28d2445ded2drow9_col1 {\n",
       "            background-color:  #3c4ec2;\n",
       "            color:  #f1f1f1;\n",
       "        }    #T_37c2427a_9443_11ea_aba8_28d2445ded2drow9_col2 {\n",
       "            background-color:  #465ecf;\n",
       "            color:  #f1f1f1;\n",
       "        }    #T_37c2427a_9443_11ea_aba8_28d2445ded2drow9_col3 {\n",
       "            background-color:  #6282ea;\n",
       "            color:  #000000;\n",
       "        }    #T_37c2427a_9443_11ea_aba8_28d2445ded2drow9_col4 {\n",
       "            background-color:  #4c66d6;\n",
       "            color:  #000000;\n",
       "        }    #T_37c2427a_9443_11ea_aba8_28d2445ded2drow9_col5 {\n",
       "            background-color:  #445acc;\n",
       "            color:  #f1f1f1;\n",
       "        }    #T_37c2427a_9443_11ea_aba8_28d2445ded2drow9_col6 {\n",
       "            background-color:  #4358cb;\n",
       "            color:  #f1f1f1;\n",
       "        }    #T_37c2427a_9443_11ea_aba8_28d2445ded2drow9_col7 {\n",
       "            background-color:  #3b4cc0;\n",
       "            color:  #f1f1f1;\n",
       "        }    #T_37c2427a_9443_11ea_aba8_28d2445ded2drow9_col8 {\n",
       "            background-color:  #3b4cc0;\n",
       "            color:  #f1f1f1;\n",
       "        }    #T_37c2427a_9443_11ea_aba8_28d2445ded2drow9_col9 {\n",
       "            background-color:  #b40426;\n",
       "            color:  #f1f1f1;\n",
       "        }    #T_37c2427a_9443_11ea_aba8_28d2445ded2drow9_col10 {\n",
       "            background-color:  #3b4cc0;\n",
       "            color:  #f1f1f1;\n",
       "        }    #T_37c2427a_9443_11ea_aba8_28d2445ded2drow9_col11 {\n",
       "            background-color:  #4257c9;\n",
       "            color:  #f1f1f1;\n",
       "        }    #T_37c2427a_9443_11ea_aba8_28d2445ded2drow10_col0 {\n",
       "            background-color:  #445acc;\n",
       "            color:  #f1f1f1;\n",
       "        }    #T_37c2427a_9443_11ea_aba8_28d2445ded2drow10_col1 {\n",
       "            background-color:  #536edd;\n",
       "            color:  #000000;\n",
       "        }    #T_37c2427a_9443_11ea_aba8_28d2445ded2drow10_col2 {\n",
       "            background-color:  #506bda;\n",
       "            color:  #000000;\n",
       "        }    #T_37c2427a_9443_11ea_aba8_28d2445ded2drow10_col3 {\n",
       "            background-color:  #3b4cc0;\n",
       "            color:  #f1f1f1;\n",
       "        }    #T_37c2427a_9443_11ea_aba8_28d2445ded2drow10_col4 {\n",
       "            background-color:  #4358cb;\n",
       "            color:  #f1f1f1;\n",
       "        }    #T_37c2427a_9443_11ea_aba8_28d2445ded2drow10_col5 {\n",
       "            background-color:  #4257c9;\n",
       "            color:  #f1f1f1;\n",
       "        }    #T_37c2427a_9443_11ea_aba8_28d2445ded2drow10_col6 {\n",
       "            background-color:  #3d50c3;\n",
       "            color:  #f1f1f1;\n",
       "        }    #T_37c2427a_9443_11ea_aba8_28d2445ded2drow10_col7 {\n",
       "            background-color:  #455cce;\n",
       "            color:  #f1f1f1;\n",
       "        }    #T_37c2427a_9443_11ea_aba8_28d2445ded2drow10_col8 {\n",
       "            background-color:  #5a78e4;\n",
       "            color:  #000000;\n",
       "        }    #T_37c2427a_9443_11ea_aba8_28d2445ded2drow10_col9 {\n",
       "            background-color:  #5a78e4;\n",
       "            color:  #000000;\n",
       "        }    #T_37c2427a_9443_11ea_aba8_28d2445ded2drow10_col10 {\n",
       "            background-color:  #b40426;\n",
       "            color:  #f1f1f1;\n",
       "        }    #T_37c2427a_9443_11ea_aba8_28d2445ded2drow10_col11 {\n",
       "            background-color:  #5875e1;\n",
       "            color:  #000000;\n",
       "        }    #T_37c2427a_9443_11ea_aba8_28d2445ded2drow11_col0 {\n",
       "            background-color:  #6e90f2;\n",
       "            color:  #000000;\n",
       "        }    #T_37c2427a_9443_11ea_aba8_28d2445ded2drow11_col1 {\n",
       "            background-color:  #4055c8;\n",
       "            color:  #f1f1f1;\n",
       "        }    #T_37c2427a_9443_11ea_aba8_28d2445ded2drow11_col2 {\n",
       "            background-color:  #7da0f9;\n",
       "            color:  #000000;\n",
       "        }    #T_37c2427a_9443_11ea_aba8_28d2445ded2drow11_col3 {\n",
       "            background-color:  #465ecf;\n",
       "            color:  #f1f1f1;\n",
       "        }    #T_37c2427a_9443_11ea_aba8_28d2445ded2drow11_col4 {\n",
       "            background-color:  #cdd9ec;\n",
       "            color:  #000000;\n",
       "        }    #T_37c2427a_9443_11ea_aba8_28d2445ded2drow11_col5 {\n",
       "            background-color:  #3e51c5;\n",
       "            color:  #f1f1f1;\n",
       "        }    #T_37c2427a_9443_11ea_aba8_28d2445ded2drow11_col6 {\n",
       "            background-color:  #82a6fb;\n",
       "            color:  #000000;\n",
       "        }    #T_37c2427a_9443_11ea_aba8_28d2445ded2drow11_col7 {\n",
       "            background-color:  #799cf8;\n",
       "            color:  #000000;\n",
       "        }    #T_37c2427a_9443_11ea_aba8_28d2445ded2drow11_col8 {\n",
       "            background-color:  #abc8fd;\n",
       "            color:  #000000;\n",
       "        }    #T_37c2427a_9443_11ea_aba8_28d2445ded2drow11_col9 {\n",
       "            background-color:  #afcafc;\n",
       "            color:  #000000;\n",
       "        }    #T_37c2427a_9443_11ea_aba8_28d2445ded2drow11_col10 {\n",
       "            background-color:  #a7c5fe;\n",
       "            color:  #000000;\n",
       "        }    #T_37c2427a_9443_11ea_aba8_28d2445ded2drow11_col11 {\n",
       "            background-color:  #b40426;\n",
       "            color:  #f1f1f1;\n",
       "        }</style><table id=\"T_37c2427a_9443_11ea_aba8_28d2445ded2d\" ><thead>    <tr>        <th class=\"blank level0\" ></th>        <th class=\"col_heading level0 col0\" >PagePopularity</th>        <th class=\"col_heading level0 col1\" >PageCheckin</th>        <th class=\"col_heading level0 col2\" >PageTalkingAbout</th>        <th class=\"col_heading level0 col3\" >PageCategory </th>        <th class=\"col_heading level0 col4\" >CommentCount24</th>        <th class=\"col_heading level0 col5\" >PostLength</th>        <th class=\"col_heading level0 col6\" >PostShareCount</th>        <th class=\"col_heading level0 col7\" >PostSunday</th>        <th class=\"col_heading level0 col8\" >PostThursday</th>        <th class=\"col_heading level0 col9\" >PostFriday</th>        <th class=\"col_heading level0 col10\" >PostSaturday</th>        <th class=\"col_heading level0 col11\" >NumberLikes24</th>    </tr></thead><tbody>\n",
       "                <tr>\n",
       "                        <th id=\"T_37c2427a_9443_11ea_aba8_28d2445ded2dlevel0_row0\" class=\"row_heading level0 row0\" >PagePopularity</th>\n",
       "                        <td id=\"T_37c2427a_9443_11ea_aba8_28d2445ded2drow0_col0\" class=\"data row0 col0\" >1.000000</td>\n",
       "                        <td id=\"T_37c2427a_9443_11ea_aba8_28d2445ded2drow0_col1\" class=\"data row0 col1\" >0.022466</td>\n",
       "                        <td id=\"T_37c2427a_9443_11ea_aba8_28d2445ded2drow0_col2\" class=\"data row0 col2\" >0.434448</td>\n",
       "                        <td id=\"T_37c2427a_9443_11ea_aba8_28d2445ded2drow0_col3\" class=\"data row0 col3\" >0.007415</td>\n",
       "                        <td id=\"T_37c2427a_9443_11ea_aba8_28d2445ded2drow0_col4\" class=\"data row0 col4\" >0.251642</td>\n",
       "                        <td id=\"T_37c2427a_9443_11ea_aba8_28d2445ded2drow0_col5\" class=\"data row0 col5\" >-0.020956</td>\n",
       "                        <td id=\"T_37c2427a_9443_11ea_aba8_28d2445ded2drow0_col6\" class=\"data row0 col6\" >0.203594</td>\n",
       "                        <td id=\"T_37c2427a_9443_11ea_aba8_28d2445ded2drow0_col7\" class=\"data row0 col7\" >0.045199</td>\n",
       "                        <td id=\"T_37c2427a_9443_11ea_aba8_28d2445ded2drow0_col8\" class=\"data row0 col8\" >0.007134</td>\n",
       "                        <td id=\"T_37c2427a_9443_11ea_aba8_28d2445ded2drow0_col9\" class=\"data row0 col9\" >-0.029572</td>\n",
       "                        <td id=\"T_37c2427a_9443_11ea_aba8_28d2445ded2drow0_col10\" class=\"data row0 col10\" >0.005739</td>\n",
       "                        <td id=\"T_37c2427a_9443_11ea_aba8_28d2445ded2drow0_col11\" class=\"data row0 col11\" >0.137089</td>\n",
       "            </tr>\n",
       "            <tr>\n",
       "                        <th id=\"T_37c2427a_9443_11ea_aba8_28d2445ded2dlevel0_row1\" class=\"row_heading level0 row1\" >PageCheckin</th>\n",
       "                        <td id=\"T_37c2427a_9443_11ea_aba8_28d2445ded2drow1_col0\" class=\"data row1 col0\" >0.022466</td>\n",
       "                        <td id=\"T_37c2427a_9443_11ea_aba8_28d2445ded2drow1_col1\" class=\"data row1 col1\" >1.000000</td>\n",
       "                        <td id=\"T_37c2427a_9443_11ea_aba8_28d2445ded2drow1_col2\" class=\"data row1 col2\" >-0.034483</td>\n",
       "                        <td id=\"T_37c2427a_9443_11ea_aba8_28d2445ded2drow1_col3\" class=\"data row1 col3\" >-0.036444</td>\n",
       "                        <td id=\"T_37c2427a_9443_11ea_aba8_28d2445ded2drow1_col4\" class=\"data row1 col4\" >-0.013134</td>\n",
       "                        <td id=\"T_37c2427a_9443_11ea_aba8_28d2445ded2drow1_col5\" class=\"data row1 col5\" >0.003845</td>\n",
       "                        <td id=\"T_37c2427a_9443_11ea_aba8_28d2445ded2drow1_col6\" class=\"data row1 col6\" >-0.000668</td>\n",
       "                        <td id=\"T_37c2427a_9443_11ea_aba8_28d2445ded2drow1_col7\" class=\"data row1 col7\" >0.038300</td>\n",
       "                        <td id=\"T_37c2427a_9443_11ea_aba8_28d2445ded2drow1_col8\" class=\"data row1 col8\" >-0.028205</td>\n",
       "                        <td id=\"T_37c2427a_9443_11ea_aba8_28d2445ded2drow1_col9\" class=\"data row1 col9\" >-0.028391</td>\n",
       "                        <td id=\"T_37c2427a_9443_11ea_aba8_28d2445ded2drow1_col10\" class=\"data row1 col10\" >0.047851</td>\n",
       "                        <td id=\"T_37c2427a_9443_11ea_aba8_28d2445ded2drow1_col11\" class=\"data row1 col11\" >-0.013623</td>\n",
       "            </tr>\n",
       "            <tr>\n",
       "                        <th id=\"T_37c2427a_9443_11ea_aba8_28d2445ded2dlevel0_row2\" class=\"row_heading level0 row2\" >PageTalkingAbout</th>\n",
       "                        <td id=\"T_37c2427a_9443_11ea_aba8_28d2445ded2drow2_col0\" class=\"data row2 col0\" >0.434448</td>\n",
       "                        <td id=\"T_37c2427a_9443_11ea_aba8_28d2445ded2drow2_col1\" class=\"data row2 col1\" >-0.034483</td>\n",
       "                        <td id=\"T_37c2427a_9443_11ea_aba8_28d2445ded2drow2_col2\" class=\"data row2 col2\" >1.000000</td>\n",
       "                        <td id=\"T_37c2427a_9443_11ea_aba8_28d2445ded2drow2_col3\" class=\"data row2 col3\" >-0.043083</td>\n",
       "                        <td id=\"T_37c2427a_9443_11ea_aba8_28d2445ded2drow2_col4\" class=\"data row2 col4\" >0.346247</td>\n",
       "                        <td id=\"T_37c2427a_9443_11ea_aba8_28d2445ded2drow2_col5\" class=\"data row2 col5\" >-0.022371</td>\n",
       "                        <td id=\"T_37c2427a_9443_11ea_aba8_28d2445ded2drow2_col6\" class=\"data row2 col6\" >0.383998</td>\n",
       "                        <td id=\"T_37c2427a_9443_11ea_aba8_28d2445ded2drow2_col7\" class=\"data row2 col7\" >0.039906</td>\n",
       "                        <td id=\"T_37c2427a_9443_11ea_aba8_28d2445ded2drow2_col8\" class=\"data row2 col8\" >-0.044091</td>\n",
       "                        <td id=\"T_37c2427a_9443_11ea_aba8_28d2445ded2drow2_col9\" class=\"data row2 col9\" >0.000358</td>\n",
       "                        <td id=\"T_37c2427a_9443_11ea_aba8_28d2445ded2drow2_col10\" class=\"data row2 col10\" >0.032426</td>\n",
       "                        <td id=\"T_37c2427a_9443_11ea_aba8_28d2445ded2drow2_col11\" class=\"data row2 col11\" >0.169344</td>\n",
       "            </tr>\n",
       "            <tr>\n",
       "                        <th id=\"T_37c2427a_9443_11ea_aba8_28d2445ded2dlevel0_row3\" class=\"row_heading level0 row3\" >PageCategory </th>\n",
       "                        <td id=\"T_37c2427a_9443_11ea_aba8_28d2445ded2drow3_col0\" class=\"data row3 col0\" >0.007415</td>\n",
       "                        <td id=\"T_37c2427a_9443_11ea_aba8_28d2445ded2drow3_col1\" class=\"data row3 col1\" >-0.036444</td>\n",
       "                        <td id=\"T_37c2427a_9443_11ea_aba8_28d2445ded2drow3_col2\" class=\"data row3 col2\" >-0.043083</td>\n",
       "                        <td id=\"T_37c2427a_9443_11ea_aba8_28d2445ded2drow3_col3\" class=\"data row3 col3\" >1.000000</td>\n",
       "                        <td id=\"T_37c2427a_9443_11ea_aba8_28d2445ded2drow3_col4\" class=\"data row3 col4\" >-0.059537</td>\n",
       "                        <td id=\"T_37c2427a_9443_11ea_aba8_28d2445ded2drow3_col5\" class=\"data row3 col5\" >0.050027</td>\n",
       "                        <td id=\"T_37c2427a_9443_11ea_aba8_28d2445ded2drow3_col6\" class=\"data row3 col6\" >-0.024466</td>\n",
       "                        <td id=\"T_37c2427a_9443_11ea_aba8_28d2445ded2drow3_col7\" class=\"data row3 col7\" >-0.065006</td>\n",
       "                        <td id=\"T_37c2427a_9443_11ea_aba8_28d2445ded2drow3_col8\" class=\"data row3 col8\" >0.071025</td>\n",
       "                        <td id=\"T_37c2427a_9443_11ea_aba8_28d2445ded2drow3_col9\" class=\"data row3 col9\" >0.039497</td>\n",
       "                        <td id=\"T_37c2427a_9443_11ea_aba8_28d2445ded2drow3_col10\" class=\"data row3 col10\" >-0.097759</td>\n",
       "                        <td id=\"T_37c2427a_9443_11ea_aba8_28d2445ded2drow3_col11\" class=\"data row3 col11\" >-0.051946</td>\n",
       "            </tr>\n",
       "            <tr>\n",
       "                        <th id=\"T_37c2427a_9443_11ea_aba8_28d2445ded2dlevel0_row4\" class=\"row_heading level0 row4\" >CommentCount24</th>\n",
       "                        <td id=\"T_37c2427a_9443_11ea_aba8_28d2445ded2drow4_col0\" class=\"data row4 col0\" >0.251642</td>\n",
       "                        <td id=\"T_37c2427a_9443_11ea_aba8_28d2445ded2drow4_col1\" class=\"data row4 col1\" >-0.013134</td>\n",
       "                        <td id=\"T_37c2427a_9443_11ea_aba8_28d2445ded2drow4_col2\" class=\"data row4 col2\" >0.346247</td>\n",
       "                        <td id=\"T_37c2427a_9443_11ea_aba8_28d2445ded2drow4_col3\" class=\"data row4 col3\" >-0.059537</td>\n",
       "                        <td id=\"T_37c2427a_9443_11ea_aba8_28d2445ded2drow4_col4\" class=\"data row4 col4\" >1.000000</td>\n",
       "                        <td id=\"T_37c2427a_9443_11ea_aba8_28d2445ded2drow4_col5\" class=\"data row4 col5\" >-0.025914</td>\n",
       "                        <td id=\"T_37c2427a_9443_11ea_aba8_28d2445ded2drow4_col6\" class=\"data row4 col6\" >0.285577</td>\n",
       "                        <td id=\"T_37c2427a_9443_11ea_aba8_28d2445ded2drow4_col7\" class=\"data row4 col7\" >-0.006864</td>\n",
       "                        <td id=\"T_37c2427a_9443_11ea_aba8_28d2445ded2drow4_col8\" class=\"data row4 col8\" >0.024280</td>\n",
       "                        <td id=\"T_37c2427a_9443_11ea_aba8_28d2445ded2drow4_col9\" class=\"data row4 col9\" >0.004646</td>\n",
       "                        <td id=\"T_37c2427a_9443_11ea_aba8_28d2445ded2drow4_col10\" class=\"data row4 col10\" >-0.030060</td>\n",
       "                        <td id=\"T_37c2427a_9443_11ea_aba8_28d2445ded2drow4_col11\" class=\"data row4 col11\" >0.410151</td>\n",
       "            </tr>\n",
       "            <tr>\n",
       "                        <th id=\"T_37c2427a_9443_11ea_aba8_28d2445ded2dlevel0_row5\" class=\"row_heading level0 row5\" >PostLength</th>\n",
       "                        <td id=\"T_37c2427a_9443_11ea_aba8_28d2445ded2drow5_col0\" class=\"data row5 col0\" >-0.020956</td>\n",
       "                        <td id=\"T_37c2427a_9443_11ea_aba8_28d2445ded2drow5_col1\" class=\"data row5 col1\" >0.003845</td>\n",
       "                        <td id=\"T_37c2427a_9443_11ea_aba8_28d2445ded2drow5_col2\" class=\"data row5 col2\" >-0.022371</td>\n",
       "                        <td id=\"T_37c2427a_9443_11ea_aba8_28d2445ded2drow5_col3\" class=\"data row5 col3\" >0.050027</td>\n",
       "                        <td id=\"T_37c2427a_9443_11ea_aba8_28d2445ded2drow5_col4\" class=\"data row5 col4\" >-0.025914</td>\n",
       "                        <td id=\"T_37c2427a_9443_11ea_aba8_28d2445ded2drow5_col5\" class=\"data row5 col5\" >1.000000</td>\n",
       "                        <td id=\"T_37c2427a_9443_11ea_aba8_28d2445ded2drow5_col6\" class=\"data row5 col6\" >-0.014609</td>\n",
       "                        <td id=\"T_37c2427a_9443_11ea_aba8_28d2445ded2drow5_col7\" class=\"data row5 col7\" >-0.007033</td>\n",
       "                        <td id=\"T_37c2427a_9443_11ea_aba8_28d2445ded2drow5_col8\" class=\"data row5 col8\" >-0.004793</td>\n",
       "                        <td id=\"T_37c2427a_9443_11ea_aba8_28d2445ded2drow5_col9\" class=\"data row5 col9\" >0.008198</td>\n",
       "                        <td id=\"T_37c2427a_9443_11ea_aba8_28d2445ded2drow5_col10\" class=\"data row5 col10\" >-0.000795</td>\n",
       "                        <td id=\"T_37c2427a_9443_11ea_aba8_28d2445ded2drow5_col11\" class=\"data row5 col11\" >-0.013469</td>\n",
       "            </tr>\n",
       "            <tr>\n",
       "                        <th id=\"T_37c2427a_9443_11ea_aba8_28d2445ded2dlevel0_row6\" class=\"row_heading level0 row6\" >PostShareCount</th>\n",
       "                        <td id=\"T_37c2427a_9443_11ea_aba8_28d2445ded2drow6_col0\" class=\"data row6 col0\" >0.203594</td>\n",
       "                        <td id=\"T_37c2427a_9443_11ea_aba8_28d2445ded2drow6_col1\" class=\"data row6 col1\" >-0.000668</td>\n",
       "                        <td id=\"T_37c2427a_9443_11ea_aba8_28d2445ded2drow6_col2\" class=\"data row6 col2\" >0.383998</td>\n",
       "                        <td id=\"T_37c2427a_9443_11ea_aba8_28d2445ded2drow6_col3\" class=\"data row6 col3\" >-0.024466</td>\n",
       "                        <td id=\"T_37c2427a_9443_11ea_aba8_28d2445ded2drow6_col4\" class=\"data row6 col4\" >0.285577</td>\n",
       "                        <td id=\"T_37c2427a_9443_11ea_aba8_28d2445ded2drow6_col5\" class=\"data row6 col5\" >-0.014609</td>\n",
       "                        <td id=\"T_37c2427a_9443_11ea_aba8_28d2445ded2drow6_col6\" class=\"data row6 col6\" >1.000000</td>\n",
       "                        <td id=\"T_37c2427a_9443_11ea_aba8_28d2445ded2drow6_col7\" class=\"data row6 col7\" >0.032047</td>\n",
       "                        <td id=\"T_37c2427a_9443_11ea_aba8_28d2445ded2drow6_col8\" class=\"data row6 col8\" >-0.004818</td>\n",
       "                        <td id=\"T_37c2427a_9443_11ea_aba8_28d2445ded2drow6_col9\" class=\"data row6 col9\" >0.005812</td>\n",
       "                        <td id=\"T_37c2427a_9443_11ea_aba8_28d2445ded2drow6_col10\" class=\"data row6 col10\" >-0.015269</td>\n",
       "                        <td id=\"T_37c2427a_9443_11ea_aba8_28d2445ded2drow6_col11\" class=\"data row6 col11\" >0.200593</td>\n",
       "            </tr>\n",
       "            <tr>\n",
       "                        <th id=\"T_37c2427a_9443_11ea_aba8_28d2445ded2dlevel0_row7\" class=\"row_heading level0 row7\" >PostSunday</th>\n",
       "                        <td id=\"T_37c2427a_9443_11ea_aba8_28d2445ded2drow7_col0\" class=\"data row7 col0\" >0.045199</td>\n",
       "                        <td id=\"T_37c2427a_9443_11ea_aba8_28d2445ded2drow7_col1\" class=\"data row7 col1\" >0.038300</td>\n",
       "                        <td id=\"T_37c2427a_9443_11ea_aba8_28d2445ded2drow7_col2\" class=\"data row7 col2\" >0.039906</td>\n",
       "                        <td id=\"T_37c2427a_9443_11ea_aba8_28d2445ded2drow7_col3\" class=\"data row7 col3\" >-0.065006</td>\n",
       "                        <td id=\"T_37c2427a_9443_11ea_aba8_28d2445ded2drow7_col4\" class=\"data row7 col4\" >-0.006864</td>\n",
       "                        <td id=\"T_37c2427a_9443_11ea_aba8_28d2445ded2drow7_col5\" class=\"data row7 col5\" >-0.007033</td>\n",
       "                        <td id=\"T_37c2427a_9443_11ea_aba8_28d2445ded2drow7_col6\" class=\"data row7 col6\" >0.032047</td>\n",
       "                        <td id=\"T_37c2427a_9443_11ea_aba8_28d2445ded2drow7_col7\" class=\"data row7 col7\" >1.000000</td>\n",
       "                        <td id=\"T_37c2427a_9443_11ea_aba8_28d2445ded2drow7_col8\" class=\"data row7 col8\" >-0.146585</td>\n",
       "                        <td id=\"T_37c2427a_9443_11ea_aba8_28d2445ded2drow7_col9\" class=\"data row7 col9\" >-0.146673</td>\n",
       "                        <td id=\"T_37c2427a_9443_11ea_aba8_28d2445ded2drow7_col10\" class=\"data row7 col10\" >-0.105512</td>\n",
       "                        <td id=\"T_37c2427a_9443_11ea_aba8_28d2445ded2drow7_col11\" class=\"data row7 col11\" >0.074132</td>\n",
       "            </tr>\n",
       "            <tr>\n",
       "                        <th id=\"T_37c2427a_9443_11ea_aba8_28d2445ded2dlevel0_row8\" class=\"row_heading level0 row8\" >PostThursday</th>\n",
       "                        <td id=\"T_37c2427a_9443_11ea_aba8_28d2445ded2drow8_col0\" class=\"data row8 col0\" >0.007134</td>\n",
       "                        <td id=\"T_37c2427a_9443_11ea_aba8_28d2445ded2drow8_col1\" class=\"data row8 col1\" >-0.028205</td>\n",
       "                        <td id=\"T_37c2427a_9443_11ea_aba8_28d2445ded2drow8_col2\" class=\"data row8 col2\" >-0.044091</td>\n",
       "                        <td id=\"T_37c2427a_9443_11ea_aba8_28d2445ded2drow8_col3\" class=\"data row8 col3\" >0.071025</td>\n",
       "                        <td id=\"T_37c2427a_9443_11ea_aba8_28d2445ded2drow8_col4\" class=\"data row8 col4\" >0.024280</td>\n",
       "                        <td id=\"T_37c2427a_9443_11ea_aba8_28d2445ded2drow8_col5\" class=\"data row8 col5\" >-0.004793</td>\n",
       "                        <td id=\"T_37c2427a_9443_11ea_aba8_28d2445ded2drow8_col6\" class=\"data row8 col6\" >-0.004818</td>\n",
       "                        <td id=\"T_37c2427a_9443_11ea_aba8_28d2445ded2drow8_col7\" class=\"data row8 col7\" >-0.146585</td>\n",
       "                        <td id=\"T_37c2427a_9443_11ea_aba8_28d2445ded2drow8_col8\" class=\"data row8 col8\" >1.000000</td>\n",
       "                        <td id=\"T_37c2427a_9443_11ea_aba8_28d2445ded2drow8_col9\" class=\"data row8 col9\" >-0.579157</td>\n",
       "                        <td id=\"T_37c2427a_9443_11ea_aba8_28d2445ded2drow8_col10\" class=\"data row8 col10\" >-0.416628</td>\n",
       "                        <td id=\"T_37c2427a_9443_11ea_aba8_28d2445ded2drow8_col11\" class=\"data row8 col11\" >-0.046290</td>\n",
       "            </tr>\n",
       "            <tr>\n",
       "                        <th id=\"T_37c2427a_9443_11ea_aba8_28d2445ded2dlevel0_row9\" class=\"row_heading level0 row9\" >PostFriday</th>\n",
       "                        <td id=\"T_37c2427a_9443_11ea_aba8_28d2445ded2drow9_col0\" class=\"data row9 col0\" >-0.029572</td>\n",
       "                        <td id=\"T_37c2427a_9443_11ea_aba8_28d2445ded2drow9_col1\" class=\"data row9 col1\" >-0.028391</td>\n",
       "                        <td id=\"T_37c2427a_9443_11ea_aba8_28d2445ded2drow9_col2\" class=\"data row9 col2\" >0.000358</td>\n",
       "                        <td id=\"T_37c2427a_9443_11ea_aba8_28d2445ded2drow9_col3\" class=\"data row9 col3\" >0.039497</td>\n",
       "                        <td id=\"T_37c2427a_9443_11ea_aba8_28d2445ded2drow9_col4\" class=\"data row9 col4\" >0.004646</td>\n",
       "                        <td id=\"T_37c2427a_9443_11ea_aba8_28d2445ded2drow9_col5\" class=\"data row9 col5\" >0.008198</td>\n",
       "                        <td id=\"T_37c2427a_9443_11ea_aba8_28d2445ded2drow9_col6\" class=\"data row9 col6\" >0.005812</td>\n",
       "                        <td id=\"T_37c2427a_9443_11ea_aba8_28d2445ded2drow9_col7\" class=\"data row9 col7\" >-0.146673</td>\n",
       "                        <td id=\"T_37c2427a_9443_11ea_aba8_28d2445ded2drow9_col8\" class=\"data row9 col8\" >-0.579157</td>\n",
       "                        <td id=\"T_37c2427a_9443_11ea_aba8_28d2445ded2drow9_col9\" class=\"data row9 col9\" >1.000000</td>\n",
       "                        <td id=\"T_37c2427a_9443_11ea_aba8_28d2445ded2drow9_col10\" class=\"data row9 col10\" >-0.416879</td>\n",
       "                        <td id=\"T_37c2427a_9443_11ea_aba8_28d2445ded2drow9_col11\" class=\"data row9 col11\" >-0.024170</td>\n",
       "            </tr>\n",
       "            <tr>\n",
       "                        <th id=\"T_37c2427a_9443_11ea_aba8_28d2445ded2dlevel0_row10\" class=\"row_heading level0 row10\" >PostSaturday</th>\n",
       "                        <td id=\"T_37c2427a_9443_11ea_aba8_28d2445ded2drow10_col0\" class=\"data row10 col0\" >0.005739</td>\n",
       "                        <td id=\"T_37c2427a_9443_11ea_aba8_28d2445ded2drow10_col1\" class=\"data row10 col1\" >0.047851</td>\n",
       "                        <td id=\"T_37c2427a_9443_11ea_aba8_28d2445ded2drow10_col2\" class=\"data row10 col2\" >0.032426</td>\n",
       "                        <td id=\"T_37c2427a_9443_11ea_aba8_28d2445ded2drow10_col3\" class=\"data row10 col3\" >-0.097759</td>\n",
       "                        <td id=\"T_37c2427a_9443_11ea_aba8_28d2445ded2drow10_col4\" class=\"data row10 col4\" >-0.030060</td>\n",
       "                        <td id=\"T_37c2427a_9443_11ea_aba8_28d2445ded2drow10_col5\" class=\"data row10 col5\" >-0.000795</td>\n",
       "                        <td id=\"T_37c2427a_9443_11ea_aba8_28d2445ded2drow10_col6\" class=\"data row10 col6\" >-0.015269</td>\n",
       "                        <td id=\"T_37c2427a_9443_11ea_aba8_28d2445ded2drow10_col7\" class=\"data row10 col7\" >-0.105512</td>\n",
       "                        <td id=\"T_37c2427a_9443_11ea_aba8_28d2445ded2drow10_col8\" class=\"data row10 col8\" >-0.416628</td>\n",
       "                        <td id=\"T_37c2427a_9443_11ea_aba8_28d2445ded2drow10_col9\" class=\"data row10 col9\" >-0.416879</td>\n",
       "                        <td id=\"T_37c2427a_9443_11ea_aba8_28d2445ded2drow10_col10\" class=\"data row10 col10\" >1.000000</td>\n",
       "                        <td id=\"T_37c2427a_9443_11ea_aba8_28d2445ded2drow10_col11\" class=\"data row10 col11\" >0.047908</td>\n",
       "            </tr>\n",
       "            <tr>\n",
       "                        <th id=\"T_37c2427a_9443_11ea_aba8_28d2445ded2dlevel0_row11\" class=\"row_heading level0 row11\" >NumberLikes24</th>\n",
       "                        <td id=\"T_37c2427a_9443_11ea_aba8_28d2445ded2drow11_col0\" class=\"data row11 col0\" >0.137089</td>\n",
       "                        <td id=\"T_37c2427a_9443_11ea_aba8_28d2445ded2drow11_col1\" class=\"data row11 col1\" >-0.013623</td>\n",
       "                        <td id=\"T_37c2427a_9443_11ea_aba8_28d2445ded2drow11_col2\" class=\"data row11 col2\" >0.169344</td>\n",
       "                        <td id=\"T_37c2427a_9443_11ea_aba8_28d2445ded2drow11_col3\" class=\"data row11 col3\" >-0.051946</td>\n",
       "                        <td id=\"T_37c2427a_9443_11ea_aba8_28d2445ded2drow11_col4\" class=\"data row11 col4\" >0.410151</td>\n",
       "                        <td id=\"T_37c2427a_9443_11ea_aba8_28d2445ded2drow11_col5\" class=\"data row11 col5\" >-0.013469</td>\n",
       "                        <td id=\"T_37c2427a_9443_11ea_aba8_28d2445ded2drow11_col6\" class=\"data row11 col6\" >0.200593</td>\n",
       "                        <td id=\"T_37c2427a_9443_11ea_aba8_28d2445ded2drow11_col7\" class=\"data row11 col7\" >0.074132</td>\n",
       "                        <td id=\"T_37c2427a_9443_11ea_aba8_28d2445ded2drow11_col8\" class=\"data row11 col8\" >-0.046290</td>\n",
       "                        <td id=\"T_37c2427a_9443_11ea_aba8_28d2445ded2drow11_col9\" class=\"data row11 col9\" >-0.024170</td>\n",
       "                        <td id=\"T_37c2427a_9443_11ea_aba8_28d2445ded2drow11_col10\" class=\"data row11 col10\" >0.047908</td>\n",
       "                        <td id=\"T_37c2427a_9443_11ea_aba8_28d2445ded2drow11_col11\" class=\"data row11 col11\" >1.000000</td>\n",
       "            </tr>\n",
       "    </tbody></table>"
      ],
      "text/plain": [
       "<pandas.io.formats.style.Styler at 0x18bf00ffa88>"
      ]
     },
     "execution_count": 11,
     "metadata": {},
     "output_type": "execute_result"
    }
   ],
   "source": [
    "#Drop the columns with out variance\n",
    "\n",
    "corr_tab = FB.corr()\n",
    "corr_tab.style.background_gradient(cmap='coolwarm')"
   ]
  },
  {
   "cell_type": "markdown",
   "metadata": {},
   "source": [
    "### Let clean the data !"
   ]
  },
  {
   "cell_type": "markdown",
   "metadata": {},
   "source": [
    "Delete outliers by statistical method"
   ]
  },
  {
   "cell_type": "code",
   "execution_count": 12,
   "metadata": {},
   "outputs": [
    {
     "name": "stdout",
     "output_type": "stream",
     "text": [
      "(2952, 12)\n"
     ]
    }
   ],
   "source": [
    "#Handling outliers, delete all point above and below mean +- 3std\n",
    "\n",
    "for column_name in FB.columns:\n",
    "    std = FB[column_name].std()\n",
    "    mean = FB[column_name].mean()\n",
    "    threshold = std*3\n",
    "    \n",
    "    lower, upper = mean - threshold, mean + threshold\n",
    "    FB = FB[(FB[column_name]<upper) & (FB[column_name]>lower)]\n",
    "\n",
    "print(FB.shape)"
   ]
  },
  {
   "cell_type": "markdown",
   "metadata": {},
   "source": [
    "Check variance of data set, and target high variance columns for scaling (```StandardScaler```)"
   ]
  },
  {
   "cell_type": "code",
   "execution_count": 13,
   "metadata": {},
   "outputs": [
    {
     "name": "stdout",
     "output_type": "stream",
     "text": [
      "PagePopularity      1.419246e+13\n",
      "PageCheckin         1.988122e+08\n",
      "PageTalkingAbout    5.231065e+10\n",
      "PageCategory        3.011666e+02\n",
      "CommentCount24      1.107708e+04\n",
      "PostLength          1.841504e+04\n",
      "PostShareCount      2.179752e+04\n",
      "PostSunday          0.000000e+00\n",
      "PostThursday        2.368147e-01\n",
      "PostFriday          2.348751e-01\n",
      "PostSaturday        1.816701e-01\n",
      "NumberLikes24       9.080926e+02\n",
      "dtype: float64\n"
     ]
    }
   ],
   "source": [
    "#Check which columns to be considered as candidate for standize\n",
    "print(FB.var())\n",
    "\n",
    "to_standized = ['PagePopularity','PageCheckin','PageTalkingAbout' ,'PageCategory ','CommentCount24','PostLength','PostShareCount']\n",
    "FB_to_standized= FB[to_standized]\n",
    "FB_remaining = FB.drop(columns = to_standized)"
   ]
  },
  {
   "cell_type": "code",
   "execution_count": 14,
   "metadata": {},
   "outputs": [],
   "source": [
    "#Use StandardScaler to scale the dataFrame\n",
    "from sklearn.preprocessing import StandardScaler\n",
    "\n",
    "scaler = StandardScaler()\n",
    "\n",
    "FB_to_scaled = scaler.fit_transform(FB_to_standized)\n",
    "FB_to_standized_DF = pd.DataFrame(FB_to_scaled, columns = to_standized)"
   ]
  },
  {
   "cell_type": "code",
   "execution_count": 15,
   "metadata": {},
   "outputs": [
    {
     "name": "stdout",
     "output_type": "stream",
     "text": [
      "PagePopularity      1.000339e+00\n",
      "PageCheckin         1.000339e+00\n",
      "PageTalkingAbout    1.000339e+00\n",
      "PageCategory        1.000339e+00\n",
      "CommentCount24      1.000339e+00\n",
      "PostLength          1.000339e+00\n",
      "PostShareCount      1.000339e+00\n",
      "index               1.041950e+06\n",
      "PostSunday          0.000000e+00\n",
      "PostThursday        2.368147e-01\n",
      "PostFriday          2.348751e-01\n",
      "PostSaturday        1.816701e-01\n",
      "NumberLikes24       9.080926e+02\n",
      "dtype: float64\n",
      "(2952, 13)\n"
     ]
    }
   ],
   "source": [
    "#Combine dataset back and check the variance after scaling the data\n",
    "FB_final = pd.concat([FB_to_standized_DF, FB_remaining.reset_index()], axis =1)\n",
    "print(FB_final.var())\n",
    "print(FB_final.shape)"
   ]
  },
  {
   "cell_type": "markdown",
   "metadata": {},
   "source": [
    "### Prepre the data  for test and train the model\n",
    "Start with no cross validation for simple solutions"
   ]
  },
  {
   "cell_type": "code",
   "execution_count": 16,
   "metadata": {},
   "outputs": [],
   "source": [
    "from sklearn.metrics import mean_squared_error\n",
    "from sklearn.model_selection import train_test_split\n",
    "\n",
    "X = FB_final.drop(columns = ['NumberLikes24','index'], axis =1)\n",
    "y = FB_final['NumberLikes24']\n",
    "\n",
    "X_train, X_test, y_train, y_test = train_test_split(X, y, test_size = 0.2, random_state = 123)"
   ]
  },
  {
   "cell_type": "markdown",
   "metadata": {},
   "source": [
    "### Regression Prediction\n",
    "Start from simplest model to the hardest one"
   ]
  },
  {
   "cell_type": "code",
   "execution_count": 17,
   "metadata": {},
   "outputs": [
    {
     "name": "stdout",
     "output_type": "stream",
     "text": [
      "R^2: 0.23786951716718419\n",
      "Root Mean Squared Error: 23.371595569494474\n"
     ]
    }
   ],
   "source": [
    "from sklearn.linear_model import LinearRegression\n",
    "\n",
    "reg= LinearRegression()\n",
    "reg.fit(X_train,y_train)\n",
    "\n",
    "y_pred = reg.predict(X_test)\n",
    "\n",
    "print(\"R^2: {}\".format(reg.score(X_test, y_test)))\n",
    "rmse = np.sqrt(mean_squared_error(y_test,y_pred))\n",
    "print(\"Root Mean Squared Error: {}\".format(rmse))\n"
   ]
  },
  {
   "cell_type": "markdown",
   "metadata": {},
   "source": [
    "Check simple regression coefficient"
   ]
  },
  {
   "cell_type": "code",
   "execution_count": 18,
   "metadata": {},
   "outputs": [
    {
     "data": {
      "text/html": [
       "<div>\n",
       "<style scoped>\n",
       "    .dataframe tbody tr th:only-of-type {\n",
       "        vertical-align: middle;\n",
       "    }\n",
       "\n",
       "    .dataframe tbody tr th {\n",
       "        vertical-align: top;\n",
       "    }\n",
       "\n",
       "    .dataframe thead th {\n",
       "        text-align: right;\n",
       "    }\n",
       "</style>\n",
       "<table border=\"1\" class=\"dataframe\">\n",
       "  <thead>\n",
       "    <tr style=\"text-align: right;\">\n",
       "      <th></th>\n",
       "      <th>Coefficient</th>\n",
       "    </tr>\n",
       "  </thead>\n",
       "  <tbody>\n",
       "    <tr>\n",
       "      <th>PagePopularity</th>\n",
       "      <td>0.403046</td>\n",
       "    </tr>\n",
       "    <tr>\n",
       "      <th>PageCheckin</th>\n",
       "      <td>-1.336774</td>\n",
       "    </tr>\n",
       "    <tr>\n",
       "      <th>PageTalkingAbout</th>\n",
       "      <td>0.785566</td>\n",
       "    </tr>\n",
       "    <tr>\n",
       "      <th>PageCategory</th>\n",
       "      <td>-0.589254</td>\n",
       "    </tr>\n",
       "    <tr>\n",
       "      <th>CommentCount24</th>\n",
       "      <td>11.963058</td>\n",
       "    </tr>\n",
       "    <tr>\n",
       "      <th>PostLength</th>\n",
       "      <td>0.003258</td>\n",
       "    </tr>\n",
       "    <tr>\n",
       "      <th>PostShareCount</th>\n",
       "      <td>5.711622</td>\n",
       "    </tr>\n",
       "    <tr>\n",
       "      <th>PostSunday</th>\n",
       "      <td>0.000000</td>\n",
       "    </tr>\n",
       "    <tr>\n",
       "      <th>PostThursday</th>\n",
       "      <td>-3.946475</td>\n",
       "    </tr>\n",
       "    <tr>\n",
       "      <th>PostFriday</th>\n",
       "      <td>-2.164281</td>\n",
       "    </tr>\n",
       "    <tr>\n",
       "      <th>PostSaturday</th>\n",
       "      <td>6.110756</td>\n",
       "    </tr>\n",
       "  </tbody>\n",
       "</table>\n",
       "</div>"
      ],
      "text/plain": [
       "                  Coefficient\n",
       "PagePopularity       0.403046\n",
       "PageCheckin         -1.336774\n",
       "PageTalkingAbout     0.785566\n",
       "PageCategory        -0.589254\n",
       "CommentCount24      11.963058\n",
       "PostLength           0.003258\n",
       "PostShareCount       5.711622\n",
       "PostSunday           0.000000\n",
       "PostThursday        -3.946475\n",
       "PostFriday          -2.164281\n",
       "PostSaturday         6.110756"
      ]
     },
     "execution_count": 18,
     "metadata": {},
     "output_type": "execute_result"
    }
   ],
   "source": [
    "coeff_df = pd.DataFrame(reg.coef_, X.columns, columns=['Coefficient'])  \n",
    "coeff_df"
   ]
  },
  {
   "cell_type": "markdown",
   "metadata": {},
   "source": [
    "Apply cross validation with 10 folds, performance improve 0.03 for r-square"
   ]
  },
  {
   "cell_type": "code",
   "execution_count": 19,
   "metadata": {},
   "outputs": [
    {
     "name": "stdout",
     "output_type": "stream",
     "text": [
      "[ 0.18983986  0.28030189  0.29010032  0.28753255  0.22604942  0.28901808\n",
      "  0.19565446  0.3148897   0.25915793 -0.13931365]\n",
      "Average 10-Fold CV r-sqaure: 0.21932305622512754\n"
     ]
    }
   ],
   "source": [
    "from sklearn.model_selection import cross_val_score\n",
    "\n",
    "reg2 = LinearRegression()\n",
    "cv_score = cross_val_score(reg2,X,y, cv = 10)\n",
    "\n",
    "print(cv_score)\n",
    "print(\"Average 10-Fold CV r-sqaure: {}\".format(np.mean(cv_score)))"
   ]
  },
  {
   "cell_type": "markdown",
   "metadata": {},
   "source": [
    "Regularization(Lasso) the model with 10 folds cross validation"
   ]
  },
  {
   "cell_type": "code",
   "execution_count": 20,
   "metadata": {},
   "outputs": [
    {
     "name": "stdout",
     "output_type": "stream",
     "text": [
      "R^2: 0.24041399335116842\n",
      "Root Mean Squared Error: 23.332548327210503\n"
     ]
    }
   ],
   "source": [
    "from sklearn.linear_model import LassoCV, Lasso\n",
    "\n",
    "lasso_cv = LassoCV(alphas=np.logspace(-6, 6, 13), cv=10, max_iter=10000)\n",
    "lasso_cv.fit(X_train, y_train) \n",
    "\n",
    "lasso = Lasso(alpha = lasso_cv.alpha_)\n",
    "lasso.fit(X_train, y_train)\n",
    "\n",
    "y_pred = lasso.predict(X_test)\n",
    "\n",
    "print(\"R^2: {}\".format(lasso.score(X_test, y_test)))\n",
    "rmse = np.sqrt(mean_squared_error(y_test,y_pred))\n",
    "print(\"Root Mean Squared Error: {}\".format(rmse))"
   ]
  },
  {
   "cell_type": "code",
   "execution_count": 21,
   "metadata": {},
   "outputs": [
    {
     "name": "stdout",
     "output_type": "stream",
     "text": [
      "The model can predict 24.0% of the variance in the test set.\n",
      "3 out of 11 features were ignored.\n",
      "Root Mean Squared Error: 23.332548327210503\n"
     ]
    }
   ],
   "source": [
    "# Find the highest alpha value with R-squared above 98%\n",
    "la = Lasso(alpha = 0.1, random_state=0)\n",
    "\n",
    "# Fits the model and calculates performance stats\n",
    "la.fit(X_train, y_train)\n",
    "\n",
    "n_ignored_features = sum(la.coef_ == 0)\n",
    "\n",
    "r_squared = la.score(X_test, y_test)\n",
    "rmse = np.sqrt(mean_squared_error(y_test,la.predict(X_test)))\n",
    "# Print peformance stats \n",
    "print(\"The model can predict {0:.1%} of the variance in the test set.\".format(r_squared))\n",
    "print(\"{} out of {} features were ignored.\".format(n_ignored_features, len(la.coef_)))\n",
    "print(\"Root Mean Squared Error: {}\".format(rmse))"
   ]
  },
  {
   "cell_type": "markdown",
   "metadata": {},
   "source": [
    "Regularization(Ridge) the model with 10 folds cross validation"
   ]
  },
  {
   "cell_type": "code",
   "execution_count": 22,
   "metadata": {},
   "outputs": [
    {
     "name": "stdout",
     "output_type": "stream",
     "text": [
      "R^2: 0.2438280625684207\n",
      "Root Mean Squared Error: 23.280053517088746\n"
     ]
    }
   ],
   "source": [
    "from sklearn.linear_model import RidgeCV, Ridge\n",
    "\n",
    "ridge_cv = RidgeCV(alphas=np.logspace(-6, 6, 13), cv=10)\n",
    "ridge_cv.fit(X_train, y_train)\n",
    "\n",
    "# Instantiate ridge, fit, predict and print MSE\n",
    "ridge = Ridge(alpha = ridge_cv.alpha_)\n",
    "ridge.fit(X_train, y_train)\n",
    "\n",
    "y_pred = ridge.predict(X_test)\n",
    "\n",
    "print(\"R^2: {}\".format(ridge.score(X_test, y_test)))\n",
    "rmse = np.sqrt(mean_squared_error(y_test,y_pred))\n",
    "print(\"Root Mean Squared Error: {}\".format(rmse))"
   ]
  },
  {
   "cell_type": "markdown",
   "metadata": {},
   "source": [
    "Apply auto recurive feature elimination"
   ]
  },
  {
   "cell_type": "code",
   "execution_count": 23,
   "metadata": {},
   "outputs": [
    {
     "name": "stdout",
     "output_type": "stream",
     "text": [
      "Fitting estimator with 11 features.\n",
      "Fitting estimator with 10 features.\n",
      "Fitting estimator with 9 features.\n",
      "Fitting estimator with 8 features.\n",
      "Fitting estimator with 7 features.\n",
      "Fitting estimator with 6 features.\n",
      "{'PagePopularity': 5, 'PageCheckin': 3, 'PageTalkingAbout': 2, 'PageCategory ': 4, 'CommentCount24': 1, 'PostLength': 6, 'PostShareCount': 1, 'PostSunday': 7, 'PostThursday': 1, 'PostFriday': 1, 'PostSaturday': 1}\n",
      "Index(['CommentCount24', 'PostShareCount', 'PostThursday', 'PostFriday',\n",
      "       'PostSaturday'],\n",
      "      dtype='object')\n",
      "R^2: 0.24714851796189719\n",
      "Root Mean Squared Error: 23.228884317719228\n"
     ]
    }
   ],
   "source": [
    "from sklearn.feature_selection import RFE\n",
    "\n",
    "# Create the RFE with a LogisticRegression estimator and 3 features to select\n",
    "rfe = RFE(estimator=RidgeCV(alphas=np.logspace(-6, 6, 13), cv=10), n_features_to_select=5, verbose=1)\n",
    "\n",
    "# Fits the eliminator to the data\n",
    "rfe.fit(X_train, y_train)\n",
    "\n",
    "# Print the features and their ranking (high = dropped early on)\n",
    "print(dict(zip(X.columns, rfe.ranking_)))\n",
    "\n",
    "# Print the features that are not eliminated\n",
    "print(X.columns[rfe.support_])\n",
    "\n",
    "print(\"R^2: {}\".format(rfe.score(X_test, y_test)))\n",
    "rmse = np.sqrt(mean_squared_error(y_test,rfe.predict(X_test)))\n",
    "print(\"Root Mean Squared Error: {}\".format(rmse))"
   ]
  },
  {
   "cell_type": "markdown",
   "metadata": {},
   "source": [
    "### Combine Feature Selector\n",
    "- Linear Model(Lasso) + Tree Base Model(RandomForest)"
   ]
  },
  {
   "cell_type": "code",
   "execution_count": 24,
   "metadata": {},
   "outputs": [
    {
     "name": "stdout",
     "output_type": "stream",
     "text": [
      "Optimal alpha = 0.060\n",
      "The model explains 23.9% of the test set variance\n",
      "8 features out of 11 selected\n"
     ]
    }
   ],
   "source": [
    "from sklearn.linear_model import LassoCV\n",
    "\n",
    "# Create and fit the LassoCV model on the training set\n",
    "lcv = LassoCV()\n",
    "lcv.fit(X_train, y_train)\n",
    "print('Optimal alpha = {0:.3f}'.format(lcv.alpha_))\n",
    "\n",
    "# Calculate R squared on the test set\n",
    "r_squared = lcv.score(X_test, y_test)\n",
    "print('The model explains {0:.1%} of the test set variance'.format(r_squared))\n",
    "\n",
    "# Create a mask for coefficients not equal to zero\n",
    "lcv_mask = lcv.coef_ != 0\n",
    "print('{} features out of {} selected'.format(sum(lcv_mask), len(lcv_mask)))"
   ]
  },
  {
   "cell_type": "code",
   "execution_count": 25,
   "metadata": {},
   "outputs": [
    {
     "name": "stdout",
     "output_type": "stream",
     "text": [
      "Fitting estimator with 11 features.\n",
      "The model can explain 32.4% of the variance in the test set\n",
      "R^2: 0.24714851796189719\n",
      "Root Mean Squared Error: 23.228884317719228\n"
     ]
    }
   ],
   "source": [
    "from sklearn.ensemble import GradientBoostingRegressor\n",
    "\n",
    "# Select 10 features with RFE on a GradientBoostingRegressor, drop 3 features on each step\n",
    "rfe_gb = RFE(estimator=GradientBoostingRegressor(), \n",
    "             n_features_to_select=10, step=3, verbose=1)\n",
    "rfe_gb.fit(X_train, y_train)\n",
    "\n",
    "# Calculate the R squared on the test set\n",
    "r_squared = rfe_gb.score(X_test, y_test)\n",
    "print('The model can explain {0:.1%} of the variance in the test set'.format(r_squared))\n",
    "\n",
    "# Assign the support array to gb_mask\n",
    "gb_mask = rfe_gb.support_\n",
    "\n",
    "print(\"R^2: {}\".format(rfe.score(X_test, y_test)))\n",
    "rmse = np.sqrt(mean_squared_error(y_test,rfe.predict(X_test)))\n",
    "print(\"Root Mean Squared Error: {}\".format(rmse))"
   ]
  },
  {
   "cell_type": "code",
   "execution_count": 26,
   "metadata": {},
   "outputs": [
    {
     "name": "stdout",
     "output_type": "stream",
     "text": [
      "Fitting estimator with 11 features.\n",
      "The model can explain 36.0% of the variance in the test set\n"
     ]
    }
   ],
   "source": [
    "from sklearn.ensemble import RandomForestRegressor\n",
    "\n",
    "# Select 10 features with RFE on a RandomForestRegressor, drop 3 features on each step\n",
    "rfe_rf = RFE(estimator=RandomForestRegressor(), \n",
    "             n_features_to_select=10, step=3, verbose=1)\n",
    "rfe_rf.fit(X_train, y_train)\n",
    "\n",
    "# Calculate the R squared on the test set\n",
    "r_squared = rfe_rf.score(X_test, y_test)\n",
    "print('The model can explain {0:.1%} of the variance in the test set'.format(r_squared))\n",
    "\n",
    "# Assign the support array to gb_mask\n",
    "rf_mask = rfe_rf.support_"
   ]
  },
  {
   "cell_type": "code",
   "execution_count": 27,
   "metadata": {},
   "outputs": [
    {
     "name": "stdout",
     "output_type": "stream",
     "text": [
      "The model can explain 27.8% of the variance in the test set using 8 features.\n",
      "Root Mean Squared Error: 23.412903918435553\n"
     ]
    }
   ],
   "source": [
    "# Sum the votes of the three models\n",
    "votes = np.sum([lcv_mask, rf_mask, gb_mask], axis=0)\n",
    "\n",
    "# Create a mask for features selected by all 3 models\n",
    "meta_mask = votes >= 3\n",
    "\n",
    "# Apply the dimensionality reduction on X\n",
    "X_reduced = X.loc[:, meta_mask]\n",
    "\n",
    "lm = LinearRegression()\n",
    "\n",
    "# Plug the reduced dataset into a linear regression pipeline\n",
    "X_train, X_test, y_train, y_test = train_test_split(X_reduced, y, test_size=0.3, random_state=123)\n",
    "lm.fit(X_train, y_train)\n",
    "r_squared = lm.score(X_test, y_test)\n",
    "print('The model can explain {0:.1%} of the variance in the test set using {1:} features.'.format(r_squared, len(lm.coef_)))\n",
    "rmse = np.sqrt(mean_squared_error(y_test,lm.predict(X_test)))\n",
    "print(\"Root Mean Squared Error: {}\".format(rmse))"
   ]
  }
 ],
 "metadata": {
  "kernelspec": {
   "display_name": "Python 3",
   "language": "python",
   "name": "python3"
  },
  "language_info": {
   "codemirror_mode": {
    "name": "ipython",
    "version": 3
   },
   "file_extension": ".py",
   "mimetype": "text/x-python",
   "name": "python",
   "nbconvert_exporter": "python",
   "pygments_lexer": "ipython3",
   "version": "3.7.4"
  }
 },
 "nbformat": 4,
 "nbformat_minor": 4
}
